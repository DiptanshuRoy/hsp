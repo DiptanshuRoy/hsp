{
 "cells": [
  {
   "cell_type": "code",
   "execution_count": 29,
   "id": "74f0afc0",
   "metadata": {},
   "outputs": [],
   "source": [
    "import pandas as pd\n",
    "from sklearn.model_selection import train_test_split\n",
    "from sklearn.ensemble import StackingClassifier\n",
    "from sklearn.linear_model import LogisticRegression\n",
    "from sklearn.ensemble import RandomForestClassifier\n",
    "import xgboost as xgb\n",
    "from sklearn.metrics import roc_auc_score\n",
    "from pathlib import Path\n"
   ]
  },
  {
   "cell_type": "code",
   "execution_count": 30,
   "id": "d4651a5a",
   "metadata": {},
   "outputs": [],
   "source": [
    "data_path = Path(\"../data/processed/feature_data.csv\")\n",
    "df=pd.read_csv(data_path)\n"
   ]
  },
  {
   "cell_type": "code",
   "execution_count": 31,
   "id": "714c084c",
   "metadata": {},
   "outputs": [],
   "source": [
    "cat_cols = [col for col in df.columns if df[col].nunique() < 20 and df[col].dtype in ['int64', 'object']]\n"
   ]
  },
  {
   "cell_type": "code",
   "execution_count": 32,
   "id": "4ac24491",
   "metadata": {},
   "outputs": [],
   "source": [
    "from sklearn.model_selection import train_test_split\n",
    "\n",
    "# Assume you already have your feature matrix X and target y\n",
    "X = df.drop(\"readmitted\", axis=1)\n",
    "y = df[\"readmitted\"]\n",
    "\n",
    "# Split into training and validation sets\n",
    "X_train, X_valid, y_train, y_valid = train_test_split(\n",
    "    X, y, test_size=0.2, stratify=y, random_state=42\n",
    ")\n"
   ]
  },
  {
   "cell_type": "code",
   "execution_count": 33,
   "id": "3e739a7d",
   "metadata": {},
   "outputs": [],
   "source": [
    "x_train.columns = [col.replace('[', '_').replace(']', '_').replace('<', '_') for col in x_train.columns]\n",
    "x_test.columns = [col.replace('[', '_').replace(']', '_').replace('<', '_') for col in x_test.columns]"
   ]
  },
  {
   "cell_type": "code",
   "execution_count": 34,
   "id": "1cdf3ad9",
   "metadata": {},
   "outputs": [
    {
     "name": "stdout",
     "output_type": "stream",
     "text": [
      "Fitting 3 folds for each of 20 candidates, totalling 60 fits\n"
     ]
    },
    {
     "name": "stderr",
     "output_type": "stream",
     "text": [
      "d:\\hospital\\venv\\Lib\\site-packages\\xgboost\\training.py:183: UserWarning: [22:13:14] WARNING: C:\\actions-runner\\_work\\xgboost\\xgboost\\src\\learner.cc:738: \n",
      "Parameters: { \"use_label_encoder\" } are not used.\n",
      "\n",
      "  bst.update(dtrain, iteration=i, fobj=obj)\n",
      "d:\\hospital\\venv\\Lib\\site-packages\\xgboost\\training.py:183: UserWarning: [22:13:34] WARNING: C:\\actions-runner\\_work\\xgboost\\xgboost\\src\\learner.cc:738: \n",
      "Parameters: { \"use_label_encoder\" } are not used.\n",
      "\n",
      "  bst.update(dtrain, iteration=i, fobj=obj)\n",
      "d:\\hospital\\venv\\Lib\\site-packages\\xgboost\\training.py:183: UserWarning: [22:13:34] WARNING: C:\\actions-runner\\_work\\xgboost\\xgboost\\src\\learner.cc:738: \n",
      "Parameters: { \"use_label_encoder\" } are not used.\n",
      "\n",
      "  bst.update(dtrain, iteration=i, fobj=obj)\n",
      "d:\\hospital\\venv\\Lib\\site-packages\\xgboost\\training.py:183: UserWarning: [22:13:35] WARNING: C:\\actions-runner\\_work\\xgboost\\xgboost\\src\\learner.cc:738: \n",
      "Parameters: { \"use_label_encoder\" } are not used.\n",
      "\n",
      "  bst.update(dtrain, iteration=i, fobj=obj)\n",
      "d:\\hospital\\venv\\Lib\\site-packages\\xgboost\\training.py:183: UserWarning: [22:13:36] WARNING: C:\\actions-runner\\_work\\xgboost\\xgboost\\src\\learner.cc:738: \n",
      "Parameters: { \"use_label_encoder\" } are not used.\n",
      "\n",
      "  bst.update(dtrain, iteration=i, fobj=obj)\n",
      "d:\\hospital\\venv\\Lib\\site-packages\\xgboost\\training.py:183: UserWarning: [22:13:36] WARNING: C:\\actions-runner\\_work\\xgboost\\xgboost\\src\\learner.cc:738: \n",
      "Parameters: { \"use_label_encoder\" } are not used.\n",
      "\n",
      "  bst.update(dtrain, iteration=i, fobj=obj)\n"
     ]
    },
    {
     "name": "stdout",
     "output_type": "stream",
     "text": [
      "[CV] END final_estimator__C=1.9727005942368125, rf__max_depth=None, rf__max_features=sqrt, rf__n_estimators=171, xgb__colsample_bytree=0.8394633936788146, xgb__gamma=0.15601864044243652, xgb__learning_rate=0.025599452033620268, xgb__max_depth=5, xgb__n_estimators=174, xgb__subsample=0.9464704583099741; total time= 1.6min\n"
     ]
    },
    {
     "name": "stderr",
     "output_type": "stream",
     "text": [
      "d:\\hospital\\venv\\Lib\\site-packages\\xgboost\\training.py:183: UserWarning: [22:14:52] WARNING: C:\\actions-runner\\_work\\xgboost\\xgboost\\src\\learner.cc:738: \n",
      "Parameters: { \"use_label_encoder\" } are not used.\n",
      "\n",
      "  bst.update(dtrain, iteration=i, fobj=obj)\n",
      "d:\\hospital\\venv\\Lib\\site-packages\\xgboost\\training.py:183: UserWarning: [22:15:12] WARNING: C:\\actions-runner\\_work\\xgboost\\xgboost\\src\\learner.cc:738: \n",
      "Parameters: { \"use_label_encoder\" } are not used.\n",
      "\n",
      "  bst.update(dtrain, iteration=i, fobj=obj)\n",
      "d:\\hospital\\venv\\Lib\\site-packages\\xgboost\\training.py:183: UserWarning: [22:15:13] WARNING: C:\\actions-runner\\_work\\xgboost\\xgboost\\src\\learner.cc:738: \n",
      "Parameters: { \"use_label_encoder\" } are not used.\n",
      "\n",
      "  bst.update(dtrain, iteration=i, fobj=obj)\n",
      "d:\\hospital\\venv\\Lib\\site-packages\\xgboost\\training.py:183: UserWarning: [22:15:14] WARNING: C:\\actions-runner\\_work\\xgboost\\xgboost\\src\\learner.cc:738: \n",
      "Parameters: { \"use_label_encoder\" } are not used.\n",
      "\n",
      "  bst.update(dtrain, iteration=i, fobj=obj)\n",
      "d:\\hospital\\venv\\Lib\\site-packages\\xgboost\\training.py:183: UserWarning: [22:15:15] WARNING: C:\\actions-runner\\_work\\xgboost\\xgboost\\src\\learner.cc:738: \n",
      "Parameters: { \"use_label_encoder\" } are not used.\n",
      "\n",
      "  bst.update(dtrain, iteration=i, fobj=obj)\n",
      "d:\\hospital\\venv\\Lib\\site-packages\\xgboost\\training.py:183: UserWarning: [22:15:15] WARNING: C:\\actions-runner\\_work\\xgboost\\xgboost\\src\\learner.cc:738: \n",
      "Parameters: { \"use_label_encoder\" } are not used.\n",
      "\n",
      "  bst.update(dtrain, iteration=i, fobj=obj)\n"
     ]
    },
    {
     "name": "stdout",
     "output_type": "stream",
     "text": [
      "[CV] END final_estimator__C=1.9727005942368125, rf__max_depth=None, rf__max_features=sqrt, rf__n_estimators=171, xgb__colsample_bytree=0.8394633936788146, xgb__gamma=0.15601864044243652, xgb__learning_rate=0.025599452033620268, xgb__max_depth=5, xgb__n_estimators=174, xgb__subsample=0.9464704583099741; total time= 1.7min\n"
     ]
    },
    {
     "name": "stderr",
     "output_type": "stream",
     "text": [
      "d:\\hospital\\venv\\Lib\\site-packages\\xgboost\\training.py:183: UserWarning: [22:16:36] WARNING: C:\\actions-runner\\_work\\xgboost\\xgboost\\src\\learner.cc:738: \n",
      "Parameters: { \"use_label_encoder\" } are not used.\n",
      "\n",
      "  bst.update(dtrain, iteration=i, fobj=obj)\n",
      "d:\\hospital\\venv\\Lib\\site-packages\\xgboost\\training.py:183: UserWarning: [22:16:56] WARNING: C:\\actions-runner\\_work\\xgboost\\xgboost\\src\\learner.cc:738: \n",
      "Parameters: { \"use_label_encoder\" } are not used.\n",
      "\n",
      "  bst.update(dtrain, iteration=i, fobj=obj)\n",
      "d:\\hospital\\venv\\Lib\\site-packages\\xgboost\\training.py:183: UserWarning: [22:16:57] WARNING: C:\\actions-runner\\_work\\xgboost\\xgboost\\src\\learner.cc:738: \n",
      "Parameters: { \"use_label_encoder\" } are not used.\n",
      "\n",
      "  bst.update(dtrain, iteration=i, fobj=obj)\n",
      "d:\\hospital\\venv\\Lib\\site-packages\\xgboost\\training.py:183: UserWarning: [22:16:58] WARNING: C:\\actions-runner\\_work\\xgboost\\xgboost\\src\\learner.cc:738: \n",
      "Parameters: { \"use_label_encoder\" } are not used.\n",
      "\n",
      "  bst.update(dtrain, iteration=i, fobj=obj)\n",
      "d:\\hospital\\venv\\Lib\\site-packages\\xgboost\\training.py:183: UserWarning: [22:16:59] WARNING: C:\\actions-runner\\_work\\xgboost\\xgboost\\src\\learner.cc:738: \n",
      "Parameters: { \"use_label_encoder\" } are not used.\n",
      "\n",
      "  bst.update(dtrain, iteration=i, fobj=obj)\n",
      "d:\\hospital\\venv\\Lib\\site-packages\\xgboost\\training.py:183: UserWarning: [22:16:59] WARNING: C:\\actions-runner\\_work\\xgboost\\xgboost\\src\\learner.cc:738: \n",
      "Parameters: { \"use_label_encoder\" } are not used.\n",
      "\n",
      "  bst.update(dtrain, iteration=i, fobj=obj)\n"
     ]
    },
    {
     "name": "stdout",
     "output_type": "stream",
     "text": [
      "[CV] END final_estimator__C=1.9727005942368125, rf__max_depth=None, rf__max_features=sqrt, rf__n_estimators=171, xgb__colsample_bytree=0.8394633936788146, xgb__gamma=0.15601864044243652, xgb__learning_rate=0.025599452033620268, xgb__max_depth=5, xgb__n_estimators=174, xgb__subsample=0.9464704583099741; total time= 1.8min\n"
     ]
    },
    {
     "name": "stderr",
     "output_type": "stream",
     "text": [
      "d:\\hospital\\venv\\Lib\\site-packages\\xgboost\\training.py:183: UserWarning: [22:18:21] WARNING: C:\\actions-runner\\_work\\xgboost\\xgboost\\src\\learner.cc:738: \n",
      "Parameters: { \"use_label_encoder\" } are not used.\n",
      "\n",
      "  bst.update(dtrain, iteration=i, fobj=obj)\n",
      "d:\\hospital\\venv\\Lib\\site-packages\\xgboost\\training.py:183: UserWarning: [22:18:25] WARNING: C:\\actions-runner\\_work\\xgboost\\xgboost\\src\\learner.cc:738: \n",
      "Parameters: { \"use_label_encoder\" } are not used.\n",
      "\n",
      "  bst.update(dtrain, iteration=i, fobj=obj)\n",
      "d:\\hospital\\venv\\Lib\\site-packages\\xgboost\\training.py:183: UserWarning: [22:18:26] WARNING: C:\\actions-runner\\_work\\xgboost\\xgboost\\src\\learner.cc:738: \n",
      "Parameters: { \"use_label_encoder\" } are not used.\n",
      "\n",
      "  bst.update(dtrain, iteration=i, fobj=obj)\n",
      "d:\\hospital\\venv\\Lib\\site-packages\\xgboost\\training.py:183: UserWarning: [22:18:26] WARNING: C:\\actions-runner\\_work\\xgboost\\xgboost\\src\\learner.cc:738: \n",
      "Parameters: { \"use_label_encoder\" } are not used.\n",
      "\n",
      "  bst.update(dtrain, iteration=i, fobj=obj)\n",
      "d:\\hospital\\venv\\Lib\\site-packages\\xgboost\\training.py:183: UserWarning: [22:18:27] WARNING: C:\\actions-runner\\_work\\xgboost\\xgboost\\src\\learner.cc:738: \n",
      "Parameters: { \"use_label_encoder\" } are not used.\n",
      "\n",
      "  bst.update(dtrain, iteration=i, fobj=obj)\n",
      "d:\\hospital\\venv\\Lib\\site-packages\\xgboost\\training.py:183: UserWarning: [22:18:28] WARNING: C:\\actions-runner\\_work\\xgboost\\xgboost\\src\\learner.cc:738: \n",
      "Parameters: { \"use_label_encoder\" } are not used.\n",
      "\n",
      "  bst.update(dtrain, iteration=i, fobj=obj)\n"
     ]
    },
    {
     "name": "stdout",
     "output_type": "stream",
     "text": [
      "[CV] END final_estimator__C=3.105575058716044, rf__max_depth=10, rf__max_features=log2, rf__n_estimators=152, xgb__colsample_bytree=0.9879639408647978, xgb__gamma=0.8324426408004217, xgb__learning_rate=0.031233911067827615, xgb__max_depth=6, xgb__n_estimators=159, xgb__subsample=0.6733618039413735; total time=  20.3s\n"
     ]
    },
    {
     "name": "stderr",
     "output_type": "stream",
     "text": [
      "d:\\hospital\\venv\\Lib\\site-packages\\xgboost\\training.py:183: UserWarning: [22:18:42] WARNING: C:\\actions-runner\\_work\\xgboost\\xgboost\\src\\learner.cc:738: \n",
      "Parameters: { \"use_label_encoder\" } are not used.\n",
      "\n",
      "  bst.update(dtrain, iteration=i, fobj=obj)\n",
      "d:\\hospital\\venv\\Lib\\site-packages\\xgboost\\training.py:183: UserWarning: [22:18:45] WARNING: C:\\actions-runner\\_work\\xgboost\\xgboost\\src\\learner.cc:738: \n",
      "Parameters: { \"use_label_encoder\" } are not used.\n",
      "\n",
      "  bst.update(dtrain, iteration=i, fobj=obj)\n",
      "d:\\hospital\\venv\\Lib\\site-packages\\xgboost\\training.py:183: UserWarning: [22:18:46] WARNING: C:\\actions-runner\\_work\\xgboost\\xgboost\\src\\learner.cc:738: \n",
      "Parameters: { \"use_label_encoder\" } are not used.\n",
      "\n",
      "  bst.update(dtrain, iteration=i, fobj=obj)\n",
      "d:\\hospital\\venv\\Lib\\site-packages\\xgboost\\training.py:183: UserWarning: [22:18:47] WARNING: C:\\actions-runner\\_work\\xgboost\\xgboost\\src\\learner.cc:738: \n",
      "Parameters: { \"use_label_encoder\" } are not used.\n",
      "\n",
      "  bst.update(dtrain, iteration=i, fobj=obj)\n",
      "d:\\hospital\\venv\\Lib\\site-packages\\xgboost\\training.py:183: UserWarning: [22:18:47] WARNING: C:\\actions-runner\\_work\\xgboost\\xgboost\\src\\learner.cc:738: \n",
      "Parameters: { \"use_label_encoder\" } are not used.\n",
      "\n",
      "  bst.update(dtrain, iteration=i, fobj=obj)\n",
      "d:\\hospital\\venv\\Lib\\site-packages\\xgboost\\training.py:183: UserWarning: [22:18:48] WARNING: C:\\actions-runner\\_work\\xgboost\\xgboost\\src\\learner.cc:738: \n",
      "Parameters: { \"use_label_encoder\" } are not used.\n",
      "\n",
      "  bst.update(dtrain, iteration=i, fobj=obj)\n"
     ]
    },
    {
     "name": "stdout",
     "output_type": "stream",
     "text": [
      "[CV] END final_estimator__C=3.105575058716044, rf__max_depth=10, rf__max_features=log2, rf__n_estimators=152, xgb__colsample_bytree=0.9879639408647978, xgb__gamma=0.8324426408004217, xgb__learning_rate=0.031233911067827615, xgb__max_depth=6, xgb__n_estimators=159, xgb__subsample=0.6733618039413735; total time=  20.1s\n"
     ]
    },
    {
     "name": "stderr",
     "output_type": "stream",
     "text": [
      "d:\\hospital\\venv\\Lib\\site-packages\\xgboost\\training.py:183: UserWarning: [22:19:02] WARNING: C:\\actions-runner\\_work\\xgboost\\xgboost\\src\\learner.cc:738: \n",
      "Parameters: { \"use_label_encoder\" } are not used.\n",
      "\n",
      "  bst.update(dtrain, iteration=i, fobj=obj)\n",
      "d:\\hospital\\venv\\Lib\\site-packages\\xgboost\\training.py:183: UserWarning: [22:19:06] WARNING: C:\\actions-runner\\_work\\xgboost\\xgboost\\src\\learner.cc:738: \n",
      "Parameters: { \"use_label_encoder\" } are not used.\n",
      "\n",
      "  bst.update(dtrain, iteration=i, fobj=obj)\n",
      "d:\\hospital\\venv\\Lib\\site-packages\\xgboost\\training.py:183: UserWarning: [22:19:06] WARNING: C:\\actions-runner\\_work\\xgboost\\xgboost\\src\\learner.cc:738: \n",
      "Parameters: { \"use_label_encoder\" } are not used.\n",
      "\n",
      "  bst.update(dtrain, iteration=i, fobj=obj)\n",
      "d:\\hospital\\venv\\Lib\\site-packages\\xgboost\\training.py:183: UserWarning: [22:19:07] WARNING: C:\\actions-runner\\_work\\xgboost\\xgboost\\src\\learner.cc:738: \n",
      "Parameters: { \"use_label_encoder\" } are not used.\n",
      "\n",
      "  bst.update(dtrain, iteration=i, fobj=obj)\n",
      "d:\\hospital\\venv\\Lib\\site-packages\\xgboost\\training.py:183: UserWarning: [22:19:07] WARNING: C:\\actions-runner\\_work\\xgboost\\xgboost\\src\\learner.cc:738: \n",
      "Parameters: { \"use_label_encoder\" } are not used.\n",
      "\n",
      "  bst.update(dtrain, iteration=i, fobj=obj)\n",
      "d:\\hospital\\venv\\Lib\\site-packages\\xgboost\\training.py:183: UserWarning: [22:19:08] WARNING: C:\\actions-runner\\_work\\xgboost\\xgboost\\src\\learner.cc:738: \n",
      "Parameters: { \"use_label_encoder\" } are not used.\n",
      "\n",
      "  bst.update(dtrain, iteration=i, fobj=obj)\n"
     ]
    },
    {
     "name": "stdout",
     "output_type": "stream",
     "text": [
      "[CV] END final_estimator__C=3.105575058716044, rf__max_depth=10, rf__max_features=log2, rf__n_estimators=152, xgb__colsample_bytree=0.9879639408647978, xgb__gamma=0.8324426408004217, xgb__learning_rate=0.031233911067827615, xgb__max_depth=6, xgb__n_estimators=159, xgb__subsample=0.6733618039413735; total time=  20.2s\n"
     ]
    },
    {
     "name": "stderr",
     "output_type": "stream",
     "text": [
      "d:\\hospital\\venv\\Lib\\site-packages\\xgboost\\training.py:183: UserWarning: [22:19:22] WARNING: C:\\actions-runner\\_work\\xgboost\\xgboost\\src\\learner.cc:738: \n",
      "Parameters: { \"use_label_encoder\" } are not used.\n",
      "\n",
      "  bst.update(dtrain, iteration=i, fobj=obj)\n",
      "d:\\hospital\\venv\\Lib\\site-packages\\xgboost\\training.py:183: UserWarning: [22:19:26] WARNING: C:\\actions-runner\\_work\\xgboost\\xgboost\\src\\learner.cc:738: \n",
      "Parameters: { \"use_label_encoder\" } are not used.\n",
      "\n",
      "  bst.update(dtrain, iteration=i, fobj=obj)\n",
      "d:\\hospital\\venv\\Lib\\site-packages\\xgboost\\training.py:183: UserWarning: [22:19:26] WARNING: C:\\actions-runner\\_work\\xgboost\\xgboost\\src\\learner.cc:738: \n",
      "Parameters: { \"use_label_encoder\" } are not used.\n",
      "\n",
      "  bst.update(dtrain, iteration=i, fobj=obj)\n",
      "d:\\hospital\\venv\\Lib\\site-packages\\xgboost\\training.py:183: UserWarning: [22:19:27] WARNING: C:\\actions-runner\\_work\\xgboost\\xgboost\\src\\learner.cc:738: \n",
      "Parameters: { \"use_label_encoder\" } are not used.\n",
      "\n",
      "  bst.update(dtrain, iteration=i, fobj=obj)\n",
      "d:\\hospital\\venv\\Lib\\site-packages\\xgboost\\training.py:183: UserWarning: [22:19:28] WARNING: C:\\actions-runner\\_work\\xgboost\\xgboost\\src\\learner.cc:738: \n",
      "Parameters: { \"use_label_encoder\" } are not used.\n",
      "\n",
      "  bst.update(dtrain, iteration=i, fobj=obj)\n",
      "d:\\hospital\\venv\\Lib\\site-packages\\xgboost\\training.py:183: UserWarning: [22:19:28] WARNING: C:\\actions-runner\\_work\\xgboost\\xgboost\\src\\learner.cc:738: \n",
      "Parameters: { \"use_label_encoder\" } are not used.\n",
      "\n",
      "  bst.update(dtrain, iteration=i, fobj=obj)\n"
     ]
    },
    {
     "name": "stdout",
     "output_type": "stream",
     "text": [
      "[CV] END final_estimator__C=1.6212112147976887, rf__max_depth=5, rf__max_features=sqrt, rf__n_estimators=188, xgb__colsample_bytree=0.7164916560792167, xgb__gamma=0.6118528947223795, xgb__learning_rate=0.023949386065204185, xgb__max_depth=6, xgb__n_estimators=159, xgb__subsample=0.7465447373174767; total time=  19.8s\n"
     ]
    },
    {
     "name": "stderr",
     "output_type": "stream",
     "text": [
      "d:\\hospital\\venv\\Lib\\site-packages\\xgboost\\training.py:183: UserWarning: [22:19:42] WARNING: C:\\actions-runner\\_work\\xgboost\\xgboost\\src\\learner.cc:738: \n",
      "Parameters: { \"use_label_encoder\" } are not used.\n",
      "\n",
      "  bst.update(dtrain, iteration=i, fobj=obj)\n",
      "d:\\hospital\\venv\\Lib\\site-packages\\xgboost\\training.py:183: UserWarning: [22:19:46] WARNING: C:\\actions-runner\\_work\\xgboost\\xgboost\\src\\learner.cc:738: \n",
      "Parameters: { \"use_label_encoder\" } are not used.\n",
      "\n",
      "  bst.update(dtrain, iteration=i, fobj=obj)\n",
      "d:\\hospital\\venv\\Lib\\site-packages\\xgboost\\training.py:183: UserWarning: [22:19:47] WARNING: C:\\actions-runner\\_work\\xgboost\\xgboost\\src\\learner.cc:738: \n",
      "Parameters: { \"use_label_encoder\" } are not used.\n",
      "\n",
      "  bst.update(dtrain, iteration=i, fobj=obj)\n",
      "d:\\hospital\\venv\\Lib\\site-packages\\xgboost\\training.py:183: UserWarning: [22:19:47] WARNING: C:\\actions-runner\\_work\\xgboost\\xgboost\\src\\learner.cc:738: \n",
      "Parameters: { \"use_label_encoder\" } are not used.\n",
      "\n",
      "  bst.update(dtrain, iteration=i, fobj=obj)\n",
      "d:\\hospital\\venv\\Lib\\site-packages\\xgboost\\training.py:183: UserWarning: [22:19:48] WARNING: C:\\actions-runner\\_work\\xgboost\\xgboost\\src\\learner.cc:738: \n",
      "Parameters: { \"use_label_encoder\" } are not used.\n",
      "\n",
      "  bst.update(dtrain, iteration=i, fobj=obj)\n",
      "d:\\hospital\\venv\\Lib\\site-packages\\xgboost\\training.py:183: UserWarning: [22:19:49] WARNING: C:\\actions-runner\\_work\\xgboost\\xgboost\\src\\learner.cc:738: \n",
      "Parameters: { \"use_label_encoder\" } are not used.\n",
      "\n",
      "  bst.update(dtrain, iteration=i, fobj=obj)\n"
     ]
    },
    {
     "name": "stdout",
     "output_type": "stream",
     "text": [
      "[CV] END final_estimator__C=1.6212112147976887, rf__max_depth=5, rf__max_features=sqrt, rf__n_estimators=188, xgb__colsample_bytree=0.7164916560792167, xgb__gamma=0.6118528947223795, xgb__learning_rate=0.023949386065204185, xgb__max_depth=6, xgb__n_estimators=159, xgb__subsample=0.7465447373174767; total time=  20.6s\n"
     ]
    },
    {
     "name": "stderr",
     "output_type": "stream",
     "text": [
      "d:\\hospital\\venv\\Lib\\site-packages\\xgboost\\training.py:183: UserWarning: [22:20:03] WARNING: C:\\actions-runner\\_work\\xgboost\\xgboost\\src\\learner.cc:738: \n",
      "Parameters: { \"use_label_encoder\" } are not used.\n",
      "\n",
      "  bst.update(dtrain, iteration=i, fobj=obj)\n",
      "d:\\hospital\\venv\\Lib\\site-packages\\xgboost\\training.py:183: UserWarning: [22:20:07] WARNING: C:\\actions-runner\\_work\\xgboost\\xgboost\\src\\learner.cc:738: \n",
      "Parameters: { \"use_label_encoder\" } are not used.\n",
      "\n",
      "  bst.update(dtrain, iteration=i, fobj=obj)\n",
      "d:\\hospital\\venv\\Lib\\site-packages\\xgboost\\training.py:183: UserWarning: [22:20:07] WARNING: C:\\actions-runner\\_work\\xgboost\\xgboost\\src\\learner.cc:738: \n",
      "Parameters: { \"use_label_encoder\" } are not used.\n",
      "\n",
      "  bst.update(dtrain, iteration=i, fobj=obj)\n",
      "d:\\hospital\\venv\\Lib\\site-packages\\xgboost\\training.py:183: UserWarning: [22:20:08] WARNING: C:\\actions-runner\\_work\\xgboost\\xgboost\\src\\learner.cc:738: \n",
      "Parameters: { \"use_label_encoder\" } are not used.\n",
      "\n",
      "  bst.update(dtrain, iteration=i, fobj=obj)\n",
      "d:\\hospital\\venv\\Lib\\site-packages\\xgboost\\training.py:183: UserWarning: [22:20:09] WARNING: C:\\actions-runner\\_work\\xgboost\\xgboost\\src\\learner.cc:738: \n",
      "Parameters: { \"use_label_encoder\" } are not used.\n",
      "\n",
      "  bst.update(dtrain, iteration=i, fobj=obj)\n",
      "d:\\hospital\\venv\\Lib\\site-packages\\xgboost\\training.py:183: UserWarning: [22:20:09] WARNING: C:\\actions-runner\\_work\\xgboost\\xgboost\\src\\learner.cc:738: \n",
      "Parameters: { \"use_label_encoder\" } are not used.\n",
      "\n",
      "  bst.update(dtrain, iteration=i, fobj=obj)\n"
     ]
    },
    {
     "name": "stdout",
     "output_type": "stream",
     "text": [
      "[CV] END final_estimator__C=1.6212112147976887, rf__max_depth=5, rf__max_features=sqrt, rf__n_estimators=188, xgb__colsample_bytree=0.7164916560792167, xgb__gamma=0.6118528947223795, xgb__learning_rate=0.023949386065204185, xgb__max_depth=6, xgb__n_estimators=159, xgb__subsample=0.7465447373174767; total time=  20.2s\n"
     ]
    },
    {
     "name": "stderr",
     "output_type": "stream",
     "text": [
      "d:\\hospital\\venv\\Lib\\site-packages\\xgboost\\training.py:183: UserWarning: [22:20:23] WARNING: C:\\actions-runner\\_work\\xgboost\\xgboost\\src\\learner.cc:738: \n",
      "Parameters: { \"use_label_encoder\" } are not used.\n",
      "\n",
      "  bst.update(dtrain, iteration=i, fobj=obj)\n",
      "d:\\hospital\\venv\\Lib\\site-packages\\xgboost\\training.py:183: UserWarning: [22:20:27] WARNING: C:\\actions-runner\\_work\\xgboost\\xgboost\\src\\learner.cc:738: \n",
      "Parameters: { \"use_label_encoder\" } are not used.\n",
      "\n",
      "  bst.update(dtrain, iteration=i, fobj=obj)\n",
      "d:\\hospital\\venv\\Lib\\site-packages\\xgboost\\training.py:183: UserWarning: [22:20:27] WARNING: C:\\actions-runner\\_work\\xgboost\\xgboost\\src\\learner.cc:738: \n",
      "Parameters: { \"use_label_encoder\" } are not used.\n",
      "\n",
      "  bst.update(dtrain, iteration=i, fobj=obj)\n",
      "d:\\hospital\\venv\\Lib\\site-packages\\xgboost\\training.py:183: UserWarning: [22:20:28] WARNING: C:\\actions-runner\\_work\\xgboost\\xgboost\\src\\learner.cc:738: \n",
      "Parameters: { \"use_label_encoder\" } are not used.\n",
      "\n",
      "  bst.update(dtrain, iteration=i, fobj=obj)\n",
      "d:\\hospital\\venv\\Lib\\site-packages\\xgboost\\training.py:183: UserWarning: [22:20:28] WARNING: C:\\actions-runner\\_work\\xgboost\\xgboost\\src\\learner.cc:738: \n",
      "Parameters: { \"use_label_encoder\" } are not used.\n",
      "\n",
      "  bst.update(dtrain, iteration=i, fobj=obj)\n",
      "d:\\hospital\\venv\\Lib\\site-packages\\xgboost\\training.py:183: UserWarning: [22:20:28] WARNING: C:\\actions-runner\\_work\\xgboost\\xgboost\\src\\learner.cc:738: \n",
      "Parameters: { \"use_label_encoder\" } are not used.\n",
      "\n",
      "  bst.update(dtrain, iteration=i, fobj=obj)\n"
     ]
    },
    {
     "name": "stdout",
     "output_type": "stream",
     "text": [
      "[CV] END final_estimator__C=2.38034992108518, rf__max_depth=10, rf__max_features=log2, rf__n_estimators=150, xgb__colsample_bytree=0.7529847965068651, xgb__gamma=0.9832308858067882, xgb__learning_rate=0.056676289324798, xgb__max_depth=3, xgb__n_estimators=150, xgb__subsample=0.8721230154351118; total time=  18.8s\n"
     ]
    },
    {
     "name": "stderr",
     "output_type": "stream",
     "text": [
      "d:\\hospital\\venv\\Lib\\site-packages\\xgboost\\training.py:183: UserWarning: [22:20:42] WARNING: C:\\actions-runner\\_work\\xgboost\\xgboost\\src\\learner.cc:738: \n",
      "Parameters: { \"use_label_encoder\" } are not used.\n",
      "\n",
      "  bst.update(dtrain, iteration=i, fobj=obj)\n",
      "d:\\hospital\\venv\\Lib\\site-packages\\xgboost\\training.py:183: UserWarning: [22:20:45] WARNING: C:\\actions-runner\\_work\\xgboost\\xgboost\\src\\learner.cc:738: \n",
      "Parameters: { \"use_label_encoder\" } are not used.\n",
      "\n",
      "  bst.update(dtrain, iteration=i, fobj=obj)\n",
      "d:\\hospital\\venv\\Lib\\site-packages\\xgboost\\training.py:183: UserWarning: [22:20:46] WARNING: C:\\actions-runner\\_work\\xgboost\\xgboost\\src\\learner.cc:738: \n",
      "Parameters: { \"use_label_encoder\" } are not used.\n",
      "\n",
      "  bst.update(dtrain, iteration=i, fobj=obj)\n",
      "d:\\hospital\\venv\\Lib\\site-packages\\xgboost\\training.py:183: UserWarning: [22:20:46] WARNING: C:\\actions-runner\\_work\\xgboost\\xgboost\\src\\learner.cc:738: \n",
      "Parameters: { \"use_label_encoder\" } are not used.\n",
      "\n",
      "  bst.update(dtrain, iteration=i, fobj=obj)\n",
      "d:\\hospital\\venv\\Lib\\site-packages\\xgboost\\training.py:183: UserWarning: [22:20:47] WARNING: C:\\actions-runner\\_work\\xgboost\\xgboost\\src\\learner.cc:738: \n",
      "Parameters: { \"use_label_encoder\" } are not used.\n",
      "\n",
      "  bst.update(dtrain, iteration=i, fobj=obj)\n",
      "d:\\hospital\\venv\\Lib\\site-packages\\xgboost\\training.py:183: UserWarning: [22:20:47] WARNING: C:\\actions-runner\\_work\\xgboost\\xgboost\\src\\learner.cc:738: \n",
      "Parameters: { \"use_label_encoder\" } are not used.\n",
      "\n",
      "  bst.update(dtrain, iteration=i, fobj=obj)\n"
     ]
    },
    {
     "name": "stdout",
     "output_type": "stream",
     "text": [
      "[CV] END final_estimator__C=2.38034992108518, rf__max_depth=10, rf__max_features=log2, rf__n_estimators=150, xgb__colsample_bytree=0.7529847965068651, xgb__gamma=0.9832308858067882, xgb__learning_rate=0.056676289324798, xgb__max_depth=3, xgb__n_estimators=150, xgb__subsample=0.8721230154351118; total time=  18.7s\n"
     ]
    },
    {
     "name": "stderr",
     "output_type": "stream",
     "text": [
      "d:\\hospital\\venv\\Lib\\site-packages\\xgboost\\training.py:183: UserWarning: [22:21:01] WARNING: C:\\actions-runner\\_work\\xgboost\\xgboost\\src\\learner.cc:738: \n",
      "Parameters: { \"use_label_encoder\" } are not used.\n",
      "\n",
      "  bst.update(dtrain, iteration=i, fobj=obj)\n",
      "d:\\hospital\\venv\\Lib\\site-packages\\xgboost\\training.py:183: UserWarning: [22:21:04] WARNING: C:\\actions-runner\\_work\\xgboost\\xgboost\\src\\learner.cc:738: \n",
      "Parameters: { \"use_label_encoder\" } are not used.\n",
      "\n",
      "  bst.update(dtrain, iteration=i, fobj=obj)\n",
      "d:\\hospital\\venv\\Lib\\site-packages\\xgboost\\training.py:183: UserWarning: [22:21:05] WARNING: C:\\actions-runner\\_work\\xgboost\\xgboost\\src\\learner.cc:738: \n",
      "Parameters: { \"use_label_encoder\" } are not used.\n",
      "\n",
      "  bst.update(dtrain, iteration=i, fobj=obj)\n",
      "d:\\hospital\\venv\\Lib\\site-packages\\xgboost\\training.py:183: UserWarning: [22:21:05] WARNING: C:\\actions-runner\\_work\\xgboost\\xgboost\\src\\learner.cc:738: \n",
      "Parameters: { \"use_label_encoder\" } are not used.\n",
      "\n",
      "  bst.update(dtrain, iteration=i, fobj=obj)\n",
      "d:\\hospital\\venv\\Lib\\site-packages\\xgboost\\training.py:183: UserWarning: [22:21:06] WARNING: C:\\actions-runner\\_work\\xgboost\\xgboost\\src\\learner.cc:738: \n",
      "Parameters: { \"use_label_encoder\" } are not used.\n",
      "\n",
      "  bst.update(dtrain, iteration=i, fobj=obj)\n",
      "d:\\hospital\\venv\\Lib\\site-packages\\xgboost\\training.py:183: UserWarning: [22:21:06] WARNING: C:\\actions-runner\\_work\\xgboost\\xgboost\\src\\learner.cc:738: \n",
      "Parameters: { \"use_label_encoder\" } are not used.\n",
      "\n",
      "  bst.update(dtrain, iteration=i, fobj=obj)\n"
     ]
    },
    {
     "name": "stdout",
     "output_type": "stream",
     "text": [
      "[CV] END final_estimator__C=2.38034992108518, rf__max_depth=10, rf__max_features=log2, rf__n_estimators=150, xgb__colsample_bytree=0.7529847965068651, xgb__gamma=0.9832308858067882, xgb__learning_rate=0.056676289324798, xgb__max_depth=3, xgb__n_estimators=150, xgb__subsample=0.8721230154351118; total time=  18.7s\n"
     ]
    },
    {
     "name": "stderr",
     "output_type": "stream",
     "text": [
      "d:\\hospital\\venv\\Lib\\site-packages\\xgboost\\training.py:183: UserWarning: [22:21:20] WARNING: C:\\actions-runner\\_work\\xgboost\\xgboost\\src\\learner.cc:738: \n",
      "Parameters: { \"use_label_encoder\" } are not used.\n",
      "\n",
      "  bst.update(dtrain, iteration=i, fobj=obj)\n",
      "d:\\hospital\\venv\\Lib\\site-packages\\xgboost\\training.py:183: UserWarning: [22:21:22] WARNING: C:\\actions-runner\\_work\\xgboost\\xgboost\\src\\learner.cc:738: \n",
      "Parameters: { \"use_label_encoder\" } are not used.\n",
      "\n",
      "  bst.update(dtrain, iteration=i, fobj=obj)\n",
      "d:\\hospital\\venv\\Lib\\site-packages\\xgboost\\training.py:183: UserWarning: [22:21:22] WARNING: C:\\actions-runner\\_work\\xgboost\\xgboost\\src\\learner.cc:738: \n",
      "Parameters: { \"use_label_encoder\" } are not used.\n",
      "\n",
      "  bst.update(dtrain, iteration=i, fobj=obj)\n",
      "d:\\hospital\\venv\\Lib\\site-packages\\xgboost\\training.py:183: UserWarning: [22:21:23] WARNING: C:\\actions-runner\\_work\\xgboost\\xgboost\\src\\learner.cc:738: \n",
      "Parameters: { \"use_label_encoder\" } are not used.\n",
      "\n",
      "  bst.update(dtrain, iteration=i, fobj=obj)\n",
      "d:\\hospital\\venv\\Lib\\site-packages\\xgboost\\training.py:183: UserWarning: [22:21:23] WARNING: C:\\actions-runner\\_work\\xgboost\\xgboost\\src\\learner.cc:738: \n",
      "Parameters: { \"use_label_encoder\" } are not used.\n",
      "\n",
      "  bst.update(dtrain, iteration=i, fobj=obj)\n",
      "d:\\hospital\\venv\\Lib\\site-packages\\xgboost\\training.py:183: UserWarning: [22:21:23] WARNING: C:\\actions-runner\\_work\\xgboost\\xgboost\\src\\learner.cc:738: \n",
      "Parameters: { \"use_label_encoder\" } are not used.\n",
      "\n",
      "  bst.update(dtrain, iteration=i, fobj=obj)\n"
     ]
    },
    {
     "name": "stdout",
     "output_type": "stream",
     "text": [
      "[CV] END final_estimator__C=2.352496259847715, rf__max_depth=5, rf__max_features=log2, rf__n_estimators=188, xgb__colsample_bytree=0.9862528132298237, xgb__gamma=0.8083973481164611, xgb__learning_rate=0.04046137691733707, xgb__max_depth=3, xgb__n_estimators=101, xgb__subsample=0.8736932106048627; total time=  12.7s\n"
     ]
    },
    {
     "name": "stderr",
     "output_type": "stream",
     "text": [
      "d:\\hospital\\venv\\Lib\\site-packages\\xgboost\\training.py:183: UserWarning: [22:21:32] WARNING: C:\\actions-runner\\_work\\xgboost\\xgboost\\src\\learner.cc:738: \n",
      "Parameters: { \"use_label_encoder\" } are not used.\n",
      "\n",
      "  bst.update(dtrain, iteration=i, fobj=obj)\n",
      "d:\\hospital\\venv\\Lib\\site-packages\\xgboost\\training.py:183: UserWarning: [22:21:35] WARNING: C:\\actions-runner\\_work\\xgboost\\xgboost\\src\\learner.cc:738: \n",
      "Parameters: { \"use_label_encoder\" } are not used.\n",
      "\n",
      "  bst.update(dtrain, iteration=i, fobj=obj)\n",
      "d:\\hospital\\venv\\Lib\\site-packages\\xgboost\\training.py:183: UserWarning: [22:21:35] WARNING: C:\\actions-runner\\_work\\xgboost\\xgboost\\src\\learner.cc:738: \n",
      "Parameters: { \"use_label_encoder\" } are not used.\n",
      "\n",
      "  bst.update(dtrain, iteration=i, fobj=obj)\n",
      "d:\\hospital\\venv\\Lib\\site-packages\\xgboost\\training.py:183: UserWarning: [22:21:35] WARNING: C:\\actions-runner\\_work\\xgboost\\xgboost\\src\\learner.cc:738: \n",
      "Parameters: { \"use_label_encoder\" } are not used.\n",
      "\n",
      "  bst.update(dtrain, iteration=i, fobj=obj)\n",
      "d:\\hospital\\venv\\Lib\\site-packages\\xgboost\\training.py:183: UserWarning: [22:21:36] WARNING: C:\\actions-runner\\_work\\xgboost\\xgboost\\src\\learner.cc:738: \n",
      "Parameters: { \"use_label_encoder\" } are not used.\n",
      "\n",
      "  bst.update(dtrain, iteration=i, fobj=obj)\n",
      "d:\\hospital\\venv\\Lib\\site-packages\\xgboost\\training.py:183: UserWarning: [22:21:36] WARNING: C:\\actions-runner\\_work\\xgboost\\xgboost\\src\\learner.cc:738: \n",
      "Parameters: { \"use_label_encoder\" } are not used.\n",
      "\n",
      "  bst.update(dtrain, iteration=i, fobj=obj)\n"
     ]
    },
    {
     "name": "stdout",
     "output_type": "stream",
     "text": [
      "[CV] END final_estimator__C=2.352496259847715, rf__max_depth=5, rf__max_features=log2, rf__n_estimators=188, xgb__colsample_bytree=0.9862528132298237, xgb__gamma=0.8083973481164611, xgb__learning_rate=0.04046137691733707, xgb__max_depth=3, xgb__n_estimators=101, xgb__subsample=0.8736932106048627; total time=  12.6s\n"
     ]
    },
    {
     "name": "stderr",
     "output_type": "stream",
     "text": [
      "d:\\hospital\\venv\\Lib\\site-packages\\xgboost\\training.py:183: UserWarning: [22:21:45] WARNING: C:\\actions-runner\\_work\\xgboost\\xgboost\\src\\learner.cc:738: \n",
      "Parameters: { \"use_label_encoder\" } are not used.\n",
      "\n",
      "  bst.update(dtrain, iteration=i, fobj=obj)\n",
      "d:\\hospital\\venv\\Lib\\site-packages\\xgboost\\training.py:183: UserWarning: [22:21:47] WARNING: C:\\actions-runner\\_work\\xgboost\\xgboost\\src\\learner.cc:738: \n",
      "Parameters: { \"use_label_encoder\" } are not used.\n",
      "\n",
      "  bst.update(dtrain, iteration=i, fobj=obj)\n",
      "d:\\hospital\\venv\\Lib\\site-packages\\xgboost\\training.py:183: UserWarning: [22:21:48] WARNING: C:\\actions-runner\\_work\\xgboost\\xgboost\\src\\learner.cc:738: \n",
      "Parameters: { \"use_label_encoder\" } are not used.\n",
      "\n",
      "  bst.update(dtrain, iteration=i, fobj=obj)\n",
      "d:\\hospital\\venv\\Lib\\site-packages\\xgboost\\training.py:183: UserWarning: [22:21:48] WARNING: C:\\actions-runner\\_work\\xgboost\\xgboost\\src\\learner.cc:738: \n",
      "Parameters: { \"use_label_encoder\" } are not used.\n",
      "\n",
      "  bst.update(dtrain, iteration=i, fobj=obj)\n",
      "d:\\hospital\\venv\\Lib\\site-packages\\xgboost\\training.py:183: UserWarning: [22:21:49] WARNING: C:\\actions-runner\\_work\\xgboost\\xgboost\\src\\learner.cc:738: \n",
      "Parameters: { \"use_label_encoder\" } are not used.\n",
      "\n",
      "  bst.update(dtrain, iteration=i, fobj=obj)\n",
      "d:\\hospital\\venv\\Lib\\site-packages\\xgboost\\training.py:183: UserWarning: [22:21:49] WARNING: C:\\actions-runner\\_work\\xgboost\\xgboost\\src\\learner.cc:738: \n",
      "Parameters: { \"use_label_encoder\" } are not used.\n",
      "\n",
      "  bst.update(dtrain, iteration=i, fobj=obj)\n"
     ]
    },
    {
     "name": "stdout",
     "output_type": "stream",
     "text": [
      "[CV] END final_estimator__C=2.352496259847715, rf__max_depth=5, rf__max_features=log2, rf__n_estimators=188, xgb__colsample_bytree=0.9862528132298237, xgb__gamma=0.8083973481164611, xgb__learning_rate=0.04046137691733707, xgb__max_depth=3, xgb__n_estimators=101, xgb__subsample=0.8736932106048627; total time=  12.7s\n"
     ]
    },
    {
     "name": "stderr",
     "output_type": "stream",
     "text": [
      "d:\\hospital\\venv\\Lib\\site-packages\\xgboost\\training.py:183: UserWarning: [22:21:58] WARNING: C:\\actions-runner\\_work\\xgboost\\xgboost\\src\\learner.cc:738: \n",
      "Parameters: { \"use_label_encoder\" } are not used.\n",
      "\n",
      "  bst.update(dtrain, iteration=i, fobj=obj)\n",
      "d:\\hospital\\venv\\Lib\\site-packages\\xgboost\\training.py:183: UserWarning: [22:22:01] WARNING: C:\\actions-runner\\_work\\xgboost\\xgboost\\src\\learner.cc:738: \n",
      "Parameters: { \"use_label_encoder\" } are not used.\n",
      "\n",
      "  bst.update(dtrain, iteration=i, fobj=obj)\n",
      "d:\\hospital\\venv\\Lib\\site-packages\\xgboost\\training.py:183: UserWarning: [22:22:01] WARNING: C:\\actions-runner\\_work\\xgboost\\xgboost\\src\\learner.cc:738: \n",
      "Parameters: { \"use_label_encoder\" } are not used.\n",
      "\n",
      "  bst.update(dtrain, iteration=i, fobj=obj)\n",
      "d:\\hospital\\venv\\Lib\\site-packages\\xgboost\\training.py:183: UserWarning: [22:22:02] WARNING: C:\\actions-runner\\_work\\xgboost\\xgboost\\src\\learner.cc:738: \n",
      "Parameters: { \"use_label_encoder\" } are not used.\n",
      "\n",
      "  bst.update(dtrain, iteration=i, fobj=obj)\n",
      "d:\\hospital\\venv\\Lib\\site-packages\\xgboost\\training.py:183: UserWarning: [22:22:02] WARNING: C:\\actions-runner\\_work\\xgboost\\xgboost\\src\\learner.cc:738: \n",
      "Parameters: { \"use_label_encoder\" } are not used.\n",
      "\n",
      "  bst.update(dtrain, iteration=i, fobj=obj)\n",
      "d:\\hospital\\venv\\Lib\\site-packages\\xgboost\\training.py:183: UserWarning: [22:22:03] WARNING: C:\\actions-runner\\_work\\xgboost\\xgboost\\src\\learner.cc:738: \n",
      "Parameters: { \"use_label_encoder\" } are not used.\n",
      "\n",
      "  bst.update(dtrain, iteration=i, fobj=obj)\n"
     ]
    },
    {
     "name": "stdout",
     "output_type": "stream",
     "text": [
      "[CV] END final_estimator__C=2.300762468698007, rf__max_depth=10, rf__max_features=log2, rf__n_estimators=107, xgb__colsample_bytree=0.6137554084460873, xgb__gamma=0.9093204020787821, xgb__learning_rate=0.035877998160001694, xgb__max_depth=6, xgb__n_estimators=103, xgb__subsample=0.7246844304357644; total time=  14.5s\n"
     ]
    },
    {
     "name": "stderr",
     "output_type": "stream",
     "text": [
      "d:\\hospital\\venv\\Lib\\site-packages\\xgboost\\training.py:183: UserWarning: [22:22:12] WARNING: C:\\actions-runner\\_work\\xgboost\\xgboost\\src\\learner.cc:738: \n",
      "Parameters: { \"use_label_encoder\" } are not used.\n",
      "\n",
      "  bst.update(dtrain, iteration=i, fobj=obj)\n",
      "d:\\hospital\\venv\\Lib\\site-packages\\xgboost\\training.py:183: UserWarning: [22:22:15] WARNING: C:\\actions-runner\\_work\\xgboost\\xgboost\\src\\learner.cc:738: \n",
      "Parameters: { \"use_label_encoder\" } are not used.\n",
      "\n",
      "  bst.update(dtrain, iteration=i, fobj=obj)\n",
      "d:\\hospital\\venv\\Lib\\site-packages\\xgboost\\training.py:183: UserWarning: [22:22:16] WARNING: C:\\actions-runner\\_work\\xgboost\\xgboost\\src\\learner.cc:738: \n",
      "Parameters: { \"use_label_encoder\" } are not used.\n",
      "\n",
      "  bst.update(dtrain, iteration=i, fobj=obj)\n",
      "d:\\hospital\\venv\\Lib\\site-packages\\xgboost\\training.py:183: UserWarning: [22:22:16] WARNING: C:\\actions-runner\\_work\\xgboost\\xgboost\\src\\learner.cc:738: \n",
      "Parameters: { \"use_label_encoder\" } are not used.\n",
      "\n",
      "  bst.update(dtrain, iteration=i, fobj=obj)\n",
      "d:\\hospital\\venv\\Lib\\site-packages\\xgboost\\training.py:183: UserWarning: [22:22:17] WARNING: C:\\actions-runner\\_work\\xgboost\\xgboost\\src\\learner.cc:738: \n",
      "Parameters: { \"use_label_encoder\" } are not used.\n",
      "\n",
      "  bst.update(dtrain, iteration=i, fobj=obj)\n",
      "d:\\hospital\\venv\\Lib\\site-packages\\xgboost\\training.py:183: UserWarning: [22:22:18] WARNING: C:\\actions-runner\\_work\\xgboost\\xgboost\\src\\learner.cc:738: \n",
      "Parameters: { \"use_label_encoder\" } are not used.\n",
      "\n",
      "  bst.update(dtrain, iteration=i, fobj=obj)\n"
     ]
    },
    {
     "name": "stdout",
     "output_type": "stream",
     "text": [
      "[CV] END final_estimator__C=2.300762468698007, rf__max_depth=10, rf__max_features=log2, rf__n_estimators=107, xgb__colsample_bytree=0.6137554084460873, xgb__gamma=0.9093204020787821, xgb__learning_rate=0.035877998160001694, xgb__max_depth=6, xgb__n_estimators=103, xgb__subsample=0.7246844304357644; total time=  15.0s\n"
     ]
    },
    {
     "name": "stderr",
     "output_type": "stream",
     "text": [
      "d:\\hospital\\venv\\Lib\\site-packages\\xgboost\\training.py:183: UserWarning: [22:22:28] WARNING: C:\\actions-runner\\_work\\xgboost\\xgboost\\src\\learner.cc:738: \n",
      "Parameters: { \"use_label_encoder\" } are not used.\n",
      "\n",
      "  bst.update(dtrain, iteration=i, fobj=obj)\n",
      "d:\\hospital\\venv\\Lib\\site-packages\\xgboost\\training.py:183: UserWarning: [22:22:31] WARNING: C:\\actions-runner\\_work\\xgboost\\xgboost\\src\\learner.cc:738: \n",
      "Parameters: { \"use_label_encoder\" } are not used.\n",
      "\n",
      "  bst.update(dtrain, iteration=i, fobj=obj)\n",
      "d:\\hospital\\venv\\Lib\\site-packages\\xgboost\\training.py:183: UserWarning: [22:22:31] WARNING: C:\\actions-runner\\_work\\xgboost\\xgboost\\src\\learner.cc:738: \n",
      "Parameters: { \"use_label_encoder\" } are not used.\n",
      "\n",
      "  bst.update(dtrain, iteration=i, fobj=obj)\n",
      "d:\\hospital\\venv\\Lib\\site-packages\\xgboost\\training.py:183: UserWarning: [22:22:32] WARNING: C:\\actions-runner\\_work\\xgboost\\xgboost\\src\\learner.cc:738: \n",
      "Parameters: { \"use_label_encoder\" } are not used.\n",
      "\n",
      "  bst.update(dtrain, iteration=i, fobj=obj)\n",
      "d:\\hospital\\venv\\Lib\\site-packages\\xgboost\\training.py:183: UserWarning: [22:22:32] WARNING: C:\\actions-runner\\_work\\xgboost\\xgboost\\src\\learner.cc:738: \n",
      "Parameters: { \"use_label_encoder\" } are not used.\n",
      "\n",
      "  bst.update(dtrain, iteration=i, fobj=obj)\n",
      "d:\\hospital\\venv\\Lib\\site-packages\\xgboost\\training.py:183: UserWarning: [22:22:33] WARNING: C:\\actions-runner\\_work\\xgboost\\xgboost\\src\\learner.cc:738: \n",
      "Parameters: { \"use_label_encoder\" } are not used.\n",
      "\n",
      "  bst.update(dtrain, iteration=i, fobj=obj)\n"
     ]
    },
    {
     "name": "stdout",
     "output_type": "stream",
     "text": [
      "[CV] END final_estimator__C=2.300762468698007, rf__max_depth=10, rf__max_features=log2, rf__n_estimators=107, xgb__colsample_bytree=0.6137554084460873, xgb__gamma=0.9093204020787821, xgb__learning_rate=0.035877998160001694, xgb__max_depth=6, xgb__n_estimators=103, xgb__subsample=0.7246844304357644; total time=  14.8s\n"
     ]
    },
    {
     "name": "stderr",
     "output_type": "stream",
     "text": [
      "d:\\hospital\\venv\\Lib\\site-packages\\xgboost\\training.py:183: UserWarning: [22:22:42] WARNING: C:\\actions-runner\\_work\\xgboost\\xgboost\\src\\learner.cc:738: \n",
      "Parameters: { \"use_label_encoder\" } are not used.\n",
      "\n",
      "  bst.update(dtrain, iteration=i, fobj=obj)\n",
      "d:\\hospital\\venv\\Lib\\site-packages\\xgboost\\training.py:183: UserWarning: [22:22:45] WARNING: C:\\actions-runner\\_work\\xgboost\\xgboost\\src\\learner.cc:738: \n",
      "Parameters: { \"use_label_encoder\" } are not used.\n",
      "\n",
      "  bst.update(dtrain, iteration=i, fobj=obj)\n",
      "d:\\hospital\\venv\\Lib\\site-packages\\xgboost\\training.py:183: UserWarning: [22:22:45] WARNING: C:\\actions-runner\\_work\\xgboost\\xgboost\\src\\learner.cc:738: \n",
      "Parameters: { \"use_label_encoder\" } are not used.\n",
      "\n",
      "  bst.update(dtrain, iteration=i, fobj=obj)\n",
      "d:\\hospital\\venv\\Lib\\site-packages\\xgboost\\training.py:183: UserWarning: [22:22:46] WARNING: C:\\actions-runner\\_work\\xgboost\\xgboost\\src\\learner.cc:738: \n",
      "Parameters: { \"use_label_encoder\" } are not used.\n",
      "\n",
      "  bst.update(dtrain, iteration=i, fobj=obj)\n",
      "d:\\hospital\\venv\\Lib\\site-packages\\xgboost\\training.py:183: UserWarning: [22:22:46] WARNING: C:\\actions-runner\\_work\\xgboost\\xgboost\\src\\learner.cc:738: \n",
      "Parameters: { \"use_label_encoder\" } are not used.\n",
      "\n",
      "  bst.update(dtrain, iteration=i, fobj=obj)\n",
      "d:\\hospital\\venv\\Lib\\site-packages\\xgboost\\training.py:183: UserWarning: [22:22:47] WARNING: C:\\actions-runner\\_work\\xgboost\\xgboost\\src\\learner.cc:738: \n",
      "Parameters: { \"use_label_encoder\" } are not used.\n",
      "\n",
      "  bst.update(dtrain, iteration=i, fobj=obj)\n"
     ]
    },
    {
     "name": "stdout",
     "output_type": "stream",
     "text": [
      "[CV] END final_estimator__C=2.700340105889054, rf__max_depth=5, rf__max_features=log2, rf__n_estimators=153, xgb__colsample_bytree=0.6125253169822235, xgb__gamma=0.8422847745949985, xgb__learning_rate=0.05497541333697657, xgb__max_depth=4, xgb__n_estimators=161, xgb__subsample=0.9706635463175177; total time=  11.7s\n"
     ]
    },
    {
     "name": "stderr",
     "output_type": "stream",
     "text": [
      "d:\\hospital\\venv\\Lib\\site-packages\\xgboost\\training.py:183: UserWarning: [22:22:54] WARNING: C:\\actions-runner\\_work\\xgboost\\xgboost\\src\\learner.cc:738: \n",
      "Parameters: { \"use_label_encoder\" } are not used.\n",
      "\n",
      "  bst.update(dtrain, iteration=i, fobj=obj)\n",
      "d:\\hospital\\venv\\Lib\\site-packages\\xgboost\\training.py:183: UserWarning: [22:22:56] WARNING: C:\\actions-runner\\_work\\xgboost\\xgboost\\src\\learner.cc:738: \n",
      "Parameters: { \"use_label_encoder\" } are not used.\n",
      "\n",
      "  bst.update(dtrain, iteration=i, fobj=obj)\n",
      "d:\\hospital\\venv\\Lib\\site-packages\\xgboost\\training.py:183: UserWarning: [22:22:57] WARNING: C:\\actions-runner\\_work\\xgboost\\xgboost\\src\\learner.cc:738: \n",
      "Parameters: { \"use_label_encoder\" } are not used.\n",
      "\n",
      "  bst.update(dtrain, iteration=i, fobj=obj)\n",
      "d:\\hospital\\venv\\Lib\\site-packages\\xgboost\\training.py:183: UserWarning: [22:22:57] WARNING: C:\\actions-runner\\_work\\xgboost\\xgboost\\src\\learner.cc:738: \n",
      "Parameters: { \"use_label_encoder\" } are not used.\n",
      "\n",
      "  bst.update(dtrain, iteration=i, fobj=obj)\n",
      "d:\\hospital\\venv\\Lib\\site-packages\\xgboost\\training.py:183: UserWarning: [22:22:58] WARNING: C:\\actions-runner\\_work\\xgboost\\xgboost\\src\\learner.cc:738: \n",
      "Parameters: { \"use_label_encoder\" } are not used.\n",
      "\n",
      "  bst.update(dtrain, iteration=i, fobj=obj)\n",
      "d:\\hospital\\venv\\Lib\\site-packages\\xgboost\\training.py:183: UserWarning: [22:22:59] WARNING: C:\\actions-runner\\_work\\xgboost\\xgboost\\src\\learner.cc:738: \n",
      "Parameters: { \"use_label_encoder\" } are not used.\n",
      "\n",
      "  bst.update(dtrain, iteration=i, fobj=obj)\n"
     ]
    },
    {
     "name": "stdout",
     "output_type": "stream",
     "text": [
      "[CV] END final_estimator__C=2.700340105889054, rf__max_depth=5, rf__max_features=log2, rf__n_estimators=153, xgb__colsample_bytree=0.6125253169822235, xgb__gamma=0.8422847745949985, xgb__learning_rate=0.05497541333697657, xgb__max_depth=4, xgb__n_estimators=161, xgb__subsample=0.9706635463175177; total time=  11.8s\n"
     ]
    },
    {
     "name": "stderr",
     "output_type": "stream",
     "text": [
      "d:\\hospital\\venv\\Lib\\site-packages\\xgboost\\training.py:183: UserWarning: [22:23:06] WARNING: C:\\actions-runner\\_work\\xgboost\\xgboost\\src\\learner.cc:738: \n",
      "Parameters: { \"use_label_encoder\" } are not used.\n",
      "\n",
      "  bst.update(dtrain, iteration=i, fobj=obj)\n",
      "d:\\hospital\\venv\\Lib\\site-packages\\xgboost\\training.py:183: UserWarning: [22:23:08] WARNING: C:\\actions-runner\\_work\\xgboost\\xgboost\\src\\learner.cc:738: \n",
      "Parameters: { \"use_label_encoder\" } are not used.\n",
      "\n",
      "  bst.update(dtrain, iteration=i, fobj=obj)\n",
      "d:\\hospital\\venv\\Lib\\site-packages\\xgboost\\training.py:183: UserWarning: [22:23:09] WARNING: C:\\actions-runner\\_work\\xgboost\\xgboost\\src\\learner.cc:738: \n",
      "Parameters: { \"use_label_encoder\" } are not used.\n",
      "\n",
      "  bst.update(dtrain, iteration=i, fobj=obj)\n",
      "d:\\hospital\\venv\\Lib\\site-packages\\xgboost\\training.py:183: UserWarning: [22:23:10] WARNING: C:\\actions-runner\\_work\\xgboost\\xgboost\\src\\learner.cc:738: \n",
      "Parameters: { \"use_label_encoder\" } are not used.\n",
      "\n",
      "  bst.update(dtrain, iteration=i, fobj=obj)\n",
      "d:\\hospital\\venv\\Lib\\site-packages\\xgboost\\training.py:183: UserWarning: [22:23:10] WARNING: C:\\actions-runner\\_work\\xgboost\\xgboost\\src\\learner.cc:738: \n",
      "Parameters: { \"use_label_encoder\" } are not used.\n",
      "\n",
      "  bst.update(dtrain, iteration=i, fobj=obj)\n",
      "d:\\hospital\\venv\\Lib\\site-packages\\xgboost\\training.py:183: UserWarning: [22:23:11] WARNING: C:\\actions-runner\\_work\\xgboost\\xgboost\\src\\learner.cc:738: \n",
      "Parameters: { \"use_label_encoder\" } are not used.\n",
      "\n",
      "  bst.update(dtrain, iteration=i, fobj=obj)\n"
     ]
    },
    {
     "name": "stdout",
     "output_type": "stream",
     "text": [
      "[CV] END final_estimator__C=2.700340105889054, rf__max_depth=5, rf__max_features=log2, rf__n_estimators=153, xgb__colsample_bytree=0.6125253169822235, xgb__gamma=0.8422847745949985, xgb__learning_rate=0.05497541333697657, xgb__max_depth=4, xgb__n_estimators=161, xgb__subsample=0.9706635463175177; total time=  11.9s\n"
     ]
    },
    {
     "name": "stderr",
     "output_type": "stream",
     "text": [
      "d:\\hospital\\venv\\Lib\\site-packages\\xgboost\\training.py:183: UserWarning: [22:23:18] WARNING: C:\\actions-runner\\_work\\xgboost\\xgboost\\src\\learner.cc:738: \n",
      "Parameters: { \"use_label_encoder\" } are not used.\n",
      "\n",
      "  bst.update(dtrain, iteration=i, fobj=obj)\n",
      "d:\\hospital\\venv\\Lib\\site-packages\\xgboost\\training.py:183: UserWarning: [22:23:23] WARNING: C:\\actions-runner\\_work\\xgboost\\xgboost\\src\\learner.cc:738: \n",
      "Parameters: { \"use_label_encoder\" } are not used.\n",
      "\n",
      "  bst.update(dtrain, iteration=i, fobj=obj)\n",
      "d:\\hospital\\venv\\Lib\\site-packages\\xgboost\\training.py:183: UserWarning: [22:23:23] WARNING: C:\\actions-runner\\_work\\xgboost\\xgboost\\src\\learner.cc:738: \n",
      "Parameters: { \"use_label_encoder\" } are not used.\n",
      "\n",
      "  bst.update(dtrain, iteration=i, fobj=obj)\n",
      "d:\\hospital\\venv\\Lib\\site-packages\\xgboost\\training.py:183: UserWarning: [22:23:24] WARNING: C:\\actions-runner\\_work\\xgboost\\xgboost\\src\\learner.cc:738: \n",
      "Parameters: { \"use_label_encoder\" } are not used.\n",
      "\n",
      "  bst.update(dtrain, iteration=i, fobj=obj)\n",
      "d:\\hospital\\venv\\Lib\\site-packages\\xgboost\\training.py:183: UserWarning: [22:23:25] WARNING: C:\\actions-runner\\_work\\xgboost\\xgboost\\src\\learner.cc:738: \n",
      "Parameters: { \"use_label_encoder\" } are not used.\n",
      "\n",
      "  bst.update(dtrain, iteration=i, fobj=obj)\n",
      "d:\\hospital\\venv\\Lib\\site-packages\\xgboost\\training.py:183: UserWarning: [22:23:25] WARNING: C:\\actions-runner\\_work\\xgboost\\xgboost\\src\\learner.cc:738: \n",
      "Parameters: { \"use_label_encoder\" } are not used.\n",
      "\n",
      "  bst.update(dtrain, iteration=i, fobj=obj)\n"
     ]
    },
    {
     "name": "stdout",
     "output_type": "stream",
     "text": [
      "[CV] END final_estimator__C=3.7363599792821045, rf__max_depth=10, rf__max_features=log2, rf__n_estimators=177, xgb__colsample_bytree=0.6783931449676581, xgb__gamma=0.045227288910538066, xgb__learning_rate=0.042533033076326436, xgb__max_depth=6, xgb__n_estimators=181, xgb__subsample=0.815876852955632; total time=  23.1s\n"
     ]
    },
    {
     "name": "stderr",
     "output_type": "stream",
     "text": [
      "d:\\hospital\\venv\\Lib\\site-packages\\xgboost\\training.py:183: UserWarning: [22:23:41] WARNING: C:\\actions-runner\\_work\\xgboost\\xgboost\\src\\learner.cc:738: \n",
      "Parameters: { \"use_label_encoder\" } are not used.\n",
      "\n",
      "  bst.update(dtrain, iteration=i, fobj=obj)\n",
      "d:\\hospital\\venv\\Lib\\site-packages\\xgboost\\training.py:183: UserWarning: [22:23:46] WARNING: C:\\actions-runner\\_work\\xgboost\\xgboost\\src\\learner.cc:738: \n",
      "Parameters: { \"use_label_encoder\" } are not used.\n",
      "\n",
      "  bst.update(dtrain, iteration=i, fobj=obj)\n",
      "d:\\hospital\\venv\\Lib\\site-packages\\xgboost\\training.py:183: UserWarning: [22:23:46] WARNING: C:\\actions-runner\\_work\\xgboost\\xgboost\\src\\learner.cc:738: \n",
      "Parameters: { \"use_label_encoder\" } are not used.\n",
      "\n",
      "  bst.update(dtrain, iteration=i, fobj=obj)\n",
      "d:\\hospital\\venv\\Lib\\site-packages\\xgboost\\training.py:183: UserWarning: [22:23:47] WARNING: C:\\actions-runner\\_work\\xgboost\\xgboost\\src\\learner.cc:738: \n",
      "Parameters: { \"use_label_encoder\" } are not used.\n",
      "\n",
      "  bst.update(dtrain, iteration=i, fobj=obj)\n",
      "d:\\hospital\\venv\\Lib\\site-packages\\xgboost\\training.py:183: UserWarning: [22:23:48] WARNING: C:\\actions-runner\\_work\\xgboost\\xgboost\\src\\learner.cc:738: \n",
      "Parameters: { \"use_label_encoder\" } are not used.\n",
      "\n",
      "  bst.update(dtrain, iteration=i, fobj=obj)\n",
      "d:\\hospital\\venv\\Lib\\site-packages\\xgboost\\training.py:183: UserWarning: [22:23:49] WARNING: C:\\actions-runner\\_work\\xgboost\\xgboost\\src\\learner.cc:738: \n",
      "Parameters: { \"use_label_encoder\" } are not used.\n",
      "\n",
      "  bst.update(dtrain, iteration=i, fobj=obj)\n"
     ]
    },
    {
     "name": "stdout",
     "output_type": "stream",
     "text": [
      "[CV] END final_estimator__C=3.7363599792821045, rf__max_depth=10, rf__max_features=log2, rf__n_estimators=177, xgb__colsample_bytree=0.6783931449676581, xgb__gamma=0.045227288910538066, xgb__learning_rate=0.042533033076326436, xgb__max_depth=6, xgb__n_estimators=181, xgb__subsample=0.815876852955632; total time=  23.6s\n"
     ]
    },
    {
     "name": "stderr",
     "output_type": "stream",
     "text": [
      "d:\\hospital\\venv\\Lib\\site-packages\\xgboost\\training.py:183: UserWarning: [22:24:05] WARNING: C:\\actions-runner\\_work\\xgboost\\xgboost\\src\\learner.cc:738: \n",
      "Parameters: { \"use_label_encoder\" } are not used.\n",
      "\n",
      "  bst.update(dtrain, iteration=i, fobj=obj)\n",
      "d:\\hospital\\venv\\Lib\\site-packages\\xgboost\\training.py:183: UserWarning: [22:24:10] WARNING: C:\\actions-runner\\_work\\xgboost\\xgboost\\src\\learner.cc:738: \n",
      "Parameters: { \"use_label_encoder\" } are not used.\n",
      "\n",
      "  bst.update(dtrain, iteration=i, fobj=obj)\n",
      "d:\\hospital\\venv\\Lib\\site-packages\\xgboost\\training.py:183: UserWarning: [22:24:10] WARNING: C:\\actions-runner\\_work\\xgboost\\xgboost\\src\\learner.cc:738: \n",
      "Parameters: { \"use_label_encoder\" } are not used.\n",
      "\n",
      "  bst.update(dtrain, iteration=i, fobj=obj)\n",
      "d:\\hospital\\venv\\Lib\\site-packages\\xgboost\\training.py:183: UserWarning: [22:24:11] WARNING: C:\\actions-runner\\_work\\xgboost\\xgboost\\src\\learner.cc:738: \n",
      "Parameters: { \"use_label_encoder\" } are not used.\n",
      "\n",
      "  bst.update(dtrain, iteration=i, fobj=obj)\n",
      "d:\\hospital\\venv\\Lib\\site-packages\\xgboost\\training.py:183: UserWarning: [22:24:12] WARNING: C:\\actions-runner\\_work\\xgboost\\xgboost\\src\\learner.cc:738: \n",
      "Parameters: { \"use_label_encoder\" } are not used.\n",
      "\n",
      "  bst.update(dtrain, iteration=i, fobj=obj)\n",
      "d:\\hospital\\venv\\Lib\\site-packages\\xgboost\\training.py:183: UserWarning: [22:24:12] WARNING: C:\\actions-runner\\_work\\xgboost\\xgboost\\src\\learner.cc:738: \n",
      "Parameters: { \"use_label_encoder\" } are not used.\n",
      "\n",
      "  bst.update(dtrain, iteration=i, fobj=obj)\n"
     ]
    },
    {
     "name": "stdout",
     "output_type": "stream",
     "text": [
      "[CV] END final_estimator__C=3.7363599792821045, rf__max_depth=10, rf__max_features=log2, rf__n_estimators=177, xgb__colsample_bytree=0.6783931449676581, xgb__gamma=0.045227288910538066, xgb__learning_rate=0.042533033076326436, xgb__max_depth=6, xgb__n_estimators=181, xgb__subsample=0.815876852955632; total time=  23.1s\n"
     ]
    },
    {
     "name": "stderr",
     "output_type": "stream",
     "text": [
      "d:\\hospital\\venv\\Lib\\site-packages\\xgboost\\training.py:183: UserWarning: [22:24:28] WARNING: C:\\actions-runner\\_work\\xgboost\\xgboost\\src\\learner.cc:738: \n",
      "Parameters: { \"use_label_encoder\" } are not used.\n",
      "\n",
      "  bst.update(dtrain, iteration=i, fobj=obj)\n",
      "d:\\hospital\\venv\\Lib\\site-packages\\xgboost\\training.py:183: UserWarning: [22:24:43] WARNING: C:\\actions-runner\\_work\\xgboost\\xgboost\\src\\learner.cc:738: \n",
      "Parameters: { \"use_label_encoder\" } are not used.\n",
      "\n",
      "  bst.update(dtrain, iteration=i, fobj=obj)\n",
      "d:\\hospital\\venv\\Lib\\site-packages\\xgboost\\training.py:183: UserWarning: [22:24:44] WARNING: C:\\actions-runner\\_work\\xgboost\\xgboost\\src\\learner.cc:738: \n",
      "Parameters: { \"use_label_encoder\" } are not used.\n",
      "\n",
      "  bst.update(dtrain, iteration=i, fobj=obj)\n",
      "d:\\hospital\\venv\\Lib\\site-packages\\xgboost\\training.py:183: UserWarning: [22:24:45] WARNING: C:\\actions-runner\\_work\\xgboost\\xgboost\\src\\learner.cc:738: \n",
      "Parameters: { \"use_label_encoder\" } are not used.\n",
      "\n",
      "  bst.update(dtrain, iteration=i, fobj=obj)\n",
      "d:\\hospital\\venv\\Lib\\site-packages\\xgboost\\training.py:183: UserWarning: [22:24:45] WARNING: C:\\actions-runner\\_work\\xgboost\\xgboost\\src\\learner.cc:738: \n",
      "Parameters: { \"use_label_encoder\" } are not used.\n",
      "\n",
      "  bst.update(dtrain, iteration=i, fobj=obj)\n",
      "d:\\hospital\\venv\\Lib\\site-packages\\xgboost\\training.py:183: UserWarning: [22:24:46] WARNING: C:\\actions-runner\\_work\\xgboost\\xgboost\\src\\learner.cc:738: \n",
      "Parameters: { \"use_label_encoder\" } are not used.\n",
      "\n",
      "  bst.update(dtrain, iteration=i, fobj=obj)\n"
     ]
    },
    {
     "name": "stdout",
     "output_type": "stream",
     "text": [
      "[CV] END final_estimator__C=3.0337558283192414, rf__max_depth=None, rf__max_features=log2, rf__n_estimators=159, xgb__colsample_bytree=0.8170784332632994, xgb__gamma=0.14092422497476265, xgb__learning_rate=0.09021969807540396, xgb__max_depth=3, xgb__n_estimators=188, xgb__subsample=0.9947547746402069; total time= 1.4min\n"
     ]
    },
    {
     "name": "stderr",
     "output_type": "stream",
     "text": [
      "d:\\hospital\\venv\\Lib\\site-packages\\xgboost\\training.py:183: UserWarning: [22:25:50] WARNING: C:\\actions-runner\\_work\\xgboost\\xgboost\\src\\learner.cc:738: \n",
      "Parameters: { \"use_label_encoder\" } are not used.\n",
      "\n",
      "  bst.update(dtrain, iteration=i, fobj=obj)\n",
      "d:\\hospital\\venv\\Lib\\site-packages\\xgboost\\training.py:183: UserWarning: [22:26:05] WARNING: C:\\actions-runner\\_work\\xgboost\\xgboost\\src\\learner.cc:738: \n",
      "Parameters: { \"use_label_encoder\" } are not used.\n",
      "\n",
      "  bst.update(dtrain, iteration=i, fobj=obj)\n",
      "d:\\hospital\\venv\\Lib\\site-packages\\xgboost\\training.py:183: UserWarning: [22:26:05] WARNING: C:\\actions-runner\\_work\\xgboost\\xgboost\\src\\learner.cc:738: \n",
      "Parameters: { \"use_label_encoder\" } are not used.\n",
      "\n",
      "  bst.update(dtrain, iteration=i, fobj=obj)\n",
      "d:\\hospital\\venv\\Lib\\site-packages\\xgboost\\training.py:183: UserWarning: [22:26:06] WARNING: C:\\actions-runner\\_work\\xgboost\\xgboost\\src\\learner.cc:738: \n",
      "Parameters: { \"use_label_encoder\" } are not used.\n",
      "\n",
      "  bst.update(dtrain, iteration=i, fobj=obj)\n",
      "d:\\hospital\\venv\\Lib\\site-packages\\xgboost\\training.py:183: UserWarning: [22:26:07] WARNING: C:\\actions-runner\\_work\\xgboost\\xgboost\\src\\learner.cc:738: \n",
      "Parameters: { \"use_label_encoder\" } are not used.\n",
      "\n",
      "  bst.update(dtrain, iteration=i, fobj=obj)\n",
      "d:\\hospital\\venv\\Lib\\site-packages\\xgboost\\training.py:183: UserWarning: [22:26:07] WARNING: C:\\actions-runner\\_work\\xgboost\\xgboost\\src\\learner.cc:738: \n",
      "Parameters: { \"use_label_encoder\" } are not used.\n",
      "\n",
      "  bst.update(dtrain, iteration=i, fobj=obj)\n"
     ]
    },
    {
     "name": "stdout",
     "output_type": "stream",
     "text": [
      "[CV] END final_estimator__C=3.0337558283192414, rf__max_depth=None, rf__max_features=log2, rf__n_estimators=159, xgb__colsample_bytree=0.8170784332632994, xgb__gamma=0.14092422497476265, xgb__learning_rate=0.09021969807540396, xgb__max_depth=3, xgb__n_estimators=188, xgb__subsample=0.9947547746402069; total time= 1.3min\n"
     ]
    },
    {
     "name": "stderr",
     "output_type": "stream",
     "text": [
      "d:\\hospital\\venv\\Lib\\site-packages\\xgboost\\training.py:183: UserWarning: [22:27:11] WARNING: C:\\actions-runner\\_work\\xgboost\\xgboost\\src\\learner.cc:738: \n",
      "Parameters: { \"use_label_encoder\" } are not used.\n",
      "\n",
      "  bst.update(dtrain, iteration=i, fobj=obj)\n",
      "d:\\hospital\\venv\\Lib\\site-packages\\xgboost\\training.py:183: UserWarning: [22:27:26] WARNING: C:\\actions-runner\\_work\\xgboost\\xgboost\\src\\learner.cc:738: \n",
      "Parameters: { \"use_label_encoder\" } are not used.\n",
      "\n",
      "  bst.update(dtrain, iteration=i, fobj=obj)\n",
      "d:\\hospital\\venv\\Lib\\site-packages\\xgboost\\training.py:183: UserWarning: [22:27:26] WARNING: C:\\actions-runner\\_work\\xgboost\\xgboost\\src\\learner.cc:738: \n",
      "Parameters: { \"use_label_encoder\" } are not used.\n",
      "\n",
      "  bst.update(dtrain, iteration=i, fobj=obj)\n",
      "d:\\hospital\\venv\\Lib\\site-packages\\xgboost\\training.py:183: UserWarning: [22:27:27] WARNING: C:\\actions-runner\\_work\\xgboost\\xgboost\\src\\learner.cc:738: \n",
      "Parameters: { \"use_label_encoder\" } are not used.\n",
      "\n",
      "  bst.update(dtrain, iteration=i, fobj=obj)\n",
      "d:\\hospital\\venv\\Lib\\site-packages\\xgboost\\training.py:183: UserWarning: [22:27:27] WARNING: C:\\actions-runner\\_work\\xgboost\\xgboost\\src\\learner.cc:738: \n",
      "Parameters: { \"use_label_encoder\" } are not used.\n",
      "\n",
      "  bst.update(dtrain, iteration=i, fobj=obj)\n",
      "d:\\hospital\\venv\\Lib\\site-packages\\xgboost\\training.py:183: UserWarning: [22:27:28] WARNING: C:\\actions-runner\\_work\\xgboost\\xgboost\\src\\learner.cc:738: \n",
      "Parameters: { \"use_label_encoder\" } are not used.\n",
      "\n",
      "  bst.update(dtrain, iteration=i, fobj=obj)\n"
     ]
    },
    {
     "name": "stdout",
     "output_type": "stream",
     "text": [
      "[CV] END final_estimator__C=3.0337558283192414, rf__max_depth=None, rf__max_features=log2, rf__n_estimators=159, xgb__colsample_bytree=0.8170784332632994, xgb__gamma=0.14092422497476265, xgb__learning_rate=0.09021969807540396, xgb__max_depth=3, xgb__n_estimators=188, xgb__subsample=0.9947547746402069; total time= 1.4min\n"
     ]
    },
    {
     "name": "stderr",
     "output_type": "stream",
     "text": [
      "d:\\hospital\\venv\\Lib\\site-packages\\xgboost\\training.py:183: UserWarning: [22:28:32] WARNING: C:\\actions-runner\\_work\\xgboost\\xgboost\\src\\learner.cc:738: \n",
      "Parameters: { \"use_label_encoder\" } are not used.\n",
      "\n",
      "  bst.update(dtrain, iteration=i, fobj=obj)\n",
      "d:\\hospital\\venv\\Lib\\site-packages\\xgboost\\training.py:183: UserWarning: [22:28:39] WARNING: C:\\actions-runner\\_work\\xgboost\\xgboost\\src\\learner.cc:738: \n",
      "Parameters: { \"use_label_encoder\" } are not used.\n",
      "\n",
      "  bst.update(dtrain, iteration=i, fobj=obj)\n",
      "d:\\hospital\\venv\\Lib\\site-packages\\xgboost\\training.py:183: UserWarning: [22:28:39] WARNING: C:\\actions-runner\\_work\\xgboost\\xgboost\\src\\learner.cc:738: \n",
      "Parameters: { \"use_label_encoder\" } are not used.\n",
      "\n",
      "  bst.update(dtrain, iteration=i, fobj=obj)\n",
      "d:\\hospital\\venv\\Lib\\site-packages\\xgboost\\training.py:183: UserWarning: [22:28:40] WARNING: C:\\actions-runner\\_work\\xgboost\\xgboost\\src\\learner.cc:738: \n",
      "Parameters: { \"use_label_encoder\" } are not used.\n",
      "\n",
      "  bst.update(dtrain, iteration=i, fobj=obj)\n",
      "d:\\hospital\\venv\\Lib\\site-packages\\xgboost\\training.py:183: UserWarning: [22:28:40] WARNING: C:\\actions-runner\\_work\\xgboost\\xgboost\\src\\learner.cc:738: \n",
      "Parameters: { \"use_label_encoder\" } are not used.\n",
      "\n",
      "  bst.update(dtrain, iteration=i, fobj=obj)\n",
      "d:\\hospital\\venv\\Lib\\site-packages\\xgboost\\training.py:183: UserWarning: [22:28:41] WARNING: C:\\actions-runner\\_work\\xgboost\\xgboost\\src\\learner.cc:738: \n",
      "Parameters: { \"use_label_encoder\" } are not used.\n",
      "\n",
      "  bst.update(dtrain, iteration=i, fobj=obj)\n"
     ]
    },
    {
     "name": "stdout",
     "output_type": "stream",
     "text": [
      "[CV] END final_estimator__C=3.961223846483287, rf__max_depth=10, rf__max_features=sqrt, rf__n_estimators=180, xgb__colsample_bytree=0.88453678109946, xgb__gamma=0.7901755405312056, xgb__learning_rate=0.07059599747810114, xgb__max_depth=4, xgb__n_estimators=140, xgb__subsample=0.9659838702175123; total time=  34.2s\n"
     ]
    },
    {
     "name": "stderr",
     "output_type": "stream",
     "text": [
      "d:\\hospital\\venv\\Lib\\site-packages\\xgboost\\training.py:183: UserWarning: [22:29:06] WARNING: C:\\actions-runner\\_work\\xgboost\\xgboost\\src\\learner.cc:738: \n",
      "Parameters: { \"use_label_encoder\" } are not used.\n",
      "\n",
      "  bst.update(dtrain, iteration=i, fobj=obj)\n",
      "d:\\hospital\\venv\\Lib\\site-packages\\xgboost\\training.py:183: UserWarning: [22:29:13] WARNING: C:\\actions-runner\\_work\\xgboost\\xgboost\\src\\learner.cc:738: \n",
      "Parameters: { \"use_label_encoder\" } are not used.\n",
      "\n",
      "  bst.update(dtrain, iteration=i, fobj=obj)\n",
      "d:\\hospital\\venv\\Lib\\site-packages\\xgboost\\training.py:183: UserWarning: [22:29:14] WARNING: C:\\actions-runner\\_work\\xgboost\\xgboost\\src\\learner.cc:738: \n",
      "Parameters: { \"use_label_encoder\" } are not used.\n",
      "\n",
      "  bst.update(dtrain, iteration=i, fobj=obj)\n",
      "d:\\hospital\\venv\\Lib\\site-packages\\xgboost\\training.py:183: UserWarning: [22:29:14] WARNING: C:\\actions-runner\\_work\\xgboost\\xgboost\\src\\learner.cc:738: \n",
      "Parameters: { \"use_label_encoder\" } are not used.\n",
      "\n",
      "  bst.update(dtrain, iteration=i, fobj=obj)\n",
      "d:\\hospital\\venv\\Lib\\site-packages\\xgboost\\training.py:183: UserWarning: [22:29:15] WARNING: C:\\actions-runner\\_work\\xgboost\\xgboost\\src\\learner.cc:738: \n",
      "Parameters: { \"use_label_encoder\" } are not used.\n",
      "\n",
      "  bst.update(dtrain, iteration=i, fobj=obj)\n",
      "d:\\hospital\\venv\\Lib\\site-packages\\xgboost\\training.py:183: UserWarning: [22:29:15] WARNING: C:\\actions-runner\\_work\\xgboost\\xgboost\\src\\learner.cc:738: \n",
      "Parameters: { \"use_label_encoder\" } are not used.\n",
      "\n",
      "  bst.update(dtrain, iteration=i, fobj=obj)\n"
     ]
    },
    {
     "name": "stdout",
     "output_type": "stream",
     "text": [
      "[CV] END final_estimator__C=3.961223846483287, rf__max_depth=10, rf__max_features=sqrt, rf__n_estimators=180, xgb__colsample_bytree=0.88453678109946, xgb__gamma=0.7901755405312056, xgb__learning_rate=0.07059599747810114, xgb__max_depth=4, xgb__n_estimators=140, xgb__subsample=0.9659838702175123; total time=  34.0s\n"
     ]
    },
    {
     "name": "stderr",
     "output_type": "stream",
     "text": [
      "d:\\hospital\\venv\\Lib\\site-packages\\xgboost\\training.py:183: UserWarning: [22:29:41] WARNING: C:\\actions-runner\\_work\\xgboost\\xgboost\\src\\learner.cc:738: \n",
      "Parameters: { \"use_label_encoder\" } are not used.\n",
      "\n",
      "  bst.update(dtrain, iteration=i, fobj=obj)\n",
      "d:\\hospital\\venv\\Lib\\site-packages\\xgboost\\training.py:183: UserWarning: [22:29:47] WARNING: C:\\actions-runner\\_work\\xgboost\\xgboost\\src\\learner.cc:738: \n",
      "Parameters: { \"use_label_encoder\" } are not used.\n",
      "\n",
      "  bst.update(dtrain, iteration=i, fobj=obj)\n",
      "d:\\hospital\\venv\\Lib\\site-packages\\xgboost\\training.py:183: UserWarning: [22:29:48] WARNING: C:\\actions-runner\\_work\\xgboost\\xgboost\\src\\learner.cc:738: \n",
      "Parameters: { \"use_label_encoder\" } are not used.\n",
      "\n",
      "  bst.update(dtrain, iteration=i, fobj=obj)\n",
      "d:\\hospital\\venv\\Lib\\site-packages\\xgboost\\training.py:183: UserWarning: [22:29:48] WARNING: C:\\actions-runner\\_work\\xgboost\\xgboost\\src\\learner.cc:738: \n",
      "Parameters: { \"use_label_encoder\" } are not used.\n",
      "\n",
      "  bst.update(dtrain, iteration=i, fobj=obj)\n",
      "d:\\hospital\\venv\\Lib\\site-packages\\xgboost\\training.py:183: UserWarning: [22:29:49] WARNING: C:\\actions-runner\\_work\\xgboost\\xgboost\\src\\learner.cc:738: \n",
      "Parameters: { \"use_label_encoder\" } are not used.\n",
      "\n",
      "  bst.update(dtrain, iteration=i, fobj=obj)\n",
      "d:\\hospital\\venv\\Lib\\site-packages\\xgboost\\training.py:183: UserWarning: [22:29:49] WARNING: C:\\actions-runner\\_work\\xgboost\\xgboost\\src\\learner.cc:738: \n",
      "Parameters: { \"use_label_encoder\" } are not used.\n",
      "\n",
      "  bst.update(dtrain, iteration=i, fobj=obj)\n"
     ]
    },
    {
     "name": "stdout",
     "output_type": "stream",
     "text": [
      "[CV] END final_estimator__C=3.961223846483287, rf__max_depth=10, rf__max_features=sqrt, rf__n_estimators=180, xgb__colsample_bytree=0.88453678109946, xgb__gamma=0.7901755405312056, xgb__learning_rate=0.07059599747810114, xgb__max_depth=4, xgb__n_estimators=140, xgb__subsample=0.9659838702175123; total time=  34.1s\n"
     ]
    },
    {
     "name": "stderr",
     "output_type": "stream",
     "text": [
      "d:\\hospital\\venv\\Lib\\site-packages\\xgboost\\training.py:183: UserWarning: [22:30:15] WARNING: C:\\actions-runner\\_work\\xgboost\\xgboost\\src\\learner.cc:738: \n",
      "Parameters: { \"use_label_encoder\" } are not used.\n",
      "\n",
      "  bst.update(dtrain, iteration=i, fobj=obj)\n",
      "d:\\hospital\\venv\\Lib\\site-packages\\xgboost\\training.py:183: UserWarning: [22:30:18] WARNING: C:\\actions-runner\\_work\\xgboost\\xgboost\\src\\learner.cc:738: \n",
      "Parameters: { \"use_label_encoder\" } are not used.\n",
      "\n",
      "  bst.update(dtrain, iteration=i, fobj=obj)\n",
      "d:\\hospital\\venv\\Lib\\site-packages\\xgboost\\training.py:183: UserWarning: [22:30:19] WARNING: C:\\actions-runner\\_work\\xgboost\\xgboost\\src\\learner.cc:738: \n",
      "Parameters: { \"use_label_encoder\" } are not used.\n",
      "\n",
      "  bst.update(dtrain, iteration=i, fobj=obj)\n",
      "d:\\hospital\\venv\\Lib\\site-packages\\xgboost\\training.py:183: UserWarning: [22:30:19] WARNING: C:\\actions-runner\\_work\\xgboost\\xgboost\\src\\learner.cc:738: \n",
      "Parameters: { \"use_label_encoder\" } are not used.\n",
      "\n",
      "  bst.update(dtrain, iteration=i, fobj=obj)\n",
      "d:\\hospital\\venv\\Lib\\site-packages\\xgboost\\training.py:183: UserWarning: [22:30:20] WARNING: C:\\actions-runner\\_work\\xgboost\\xgboost\\src\\learner.cc:738: \n",
      "Parameters: { \"use_label_encoder\" } are not used.\n",
      "\n",
      "  bst.update(dtrain, iteration=i, fobj=obj)\n",
      "d:\\hospital\\venv\\Lib\\site-packages\\xgboost\\training.py:183: UserWarning: [22:30:21] WARNING: C:\\actions-runner\\_work\\xgboost\\xgboost\\src\\learner.cc:738: \n",
      "Parameters: { \"use_label_encoder\" } are not used.\n",
      "\n",
      "  bst.update(dtrain, iteration=i, fobj=obj)\n"
     ]
    },
    {
     "name": "stdout",
     "output_type": "stream",
     "text": [
      "[CV] END final_estimator__C=4.350192888948996, rf__max_depth=5, rf__max_features=sqrt, rf__n_estimators=147, xgb__colsample_bytree=0.7483273008793065, xgb__gamma=0.6688412526636073, xgb__learning_rate=0.07659223566174966, xgb__max_depth=6, xgb__n_estimators=185, xgb__subsample=0.9548850970305306; total time=  16.5s\n"
     ]
    },
    {
     "name": "stderr",
     "output_type": "stream",
     "text": [
      "d:\\hospital\\venv\\Lib\\site-packages\\xgboost\\training.py:183: UserWarning: [22:30:31] WARNING: C:\\actions-runner\\_work\\xgboost\\xgboost\\src\\learner.cc:738: \n",
      "Parameters: { \"use_label_encoder\" } are not used.\n",
      "\n",
      "  bst.update(dtrain, iteration=i, fobj=obj)\n",
      "d:\\hospital\\venv\\Lib\\site-packages\\xgboost\\training.py:183: UserWarning: [22:30:35] WARNING: C:\\actions-runner\\_work\\xgboost\\xgboost\\src\\learner.cc:738: \n",
      "Parameters: { \"use_label_encoder\" } are not used.\n",
      "\n",
      "  bst.update(dtrain, iteration=i, fobj=obj)\n",
      "d:\\hospital\\venv\\Lib\\site-packages\\xgboost\\training.py:183: UserWarning: [22:30:35] WARNING: C:\\actions-runner\\_work\\xgboost\\xgboost\\src\\learner.cc:738: \n",
      "Parameters: { \"use_label_encoder\" } are not used.\n",
      "\n",
      "  bst.update(dtrain, iteration=i, fobj=obj)\n",
      "d:\\hospital\\venv\\Lib\\site-packages\\xgboost\\training.py:183: UserWarning: [22:30:36] WARNING: C:\\actions-runner\\_work\\xgboost\\xgboost\\src\\learner.cc:738: \n",
      "Parameters: { \"use_label_encoder\" } are not used.\n",
      "\n",
      "  bst.update(dtrain, iteration=i, fobj=obj)\n",
      "d:\\hospital\\venv\\Lib\\site-packages\\xgboost\\training.py:183: UserWarning: [22:30:36] WARNING: C:\\actions-runner\\_work\\xgboost\\xgboost\\src\\learner.cc:738: \n",
      "Parameters: { \"use_label_encoder\" } are not used.\n",
      "\n",
      "  bst.update(dtrain, iteration=i, fobj=obj)\n",
      "d:\\hospital\\venv\\Lib\\site-packages\\xgboost\\training.py:183: UserWarning: [22:30:37] WARNING: C:\\actions-runner\\_work\\xgboost\\xgboost\\src\\learner.cc:738: \n",
      "Parameters: { \"use_label_encoder\" } are not used.\n",
      "\n",
      "  bst.update(dtrain, iteration=i, fobj=obj)\n"
     ]
    },
    {
     "name": "stdout",
     "output_type": "stream",
     "text": [
      "[CV] END final_estimator__C=4.350192888948996, rf__max_depth=5, rf__max_features=sqrt, rf__n_estimators=147, xgb__colsample_bytree=0.7483273008793065, xgb__gamma=0.6688412526636073, xgb__learning_rate=0.07659223566174966, xgb__max_depth=6, xgb__n_estimators=185, xgb__subsample=0.9548850970305306; total time=  16.6s\n"
     ]
    },
    {
     "name": "stderr",
     "output_type": "stream",
     "text": [
      "d:\\hospital\\venv\\Lib\\site-packages\\xgboost\\training.py:183: UserWarning: [22:30:48] WARNING: C:\\actions-runner\\_work\\xgboost\\xgboost\\src\\learner.cc:738: \n",
      "Parameters: { \"use_label_encoder\" } are not used.\n",
      "\n",
      "  bst.update(dtrain, iteration=i, fobj=obj)\n",
      "d:\\hospital\\venv\\Lib\\site-packages\\xgboost\\training.py:183: UserWarning: [22:30:51] WARNING: C:\\actions-runner\\_work\\xgboost\\xgboost\\src\\learner.cc:738: \n",
      "Parameters: { \"use_label_encoder\" } are not used.\n",
      "\n",
      "  bst.update(dtrain, iteration=i, fobj=obj)\n",
      "d:\\hospital\\venv\\Lib\\site-packages\\xgboost\\training.py:183: UserWarning: [22:30:52] WARNING: C:\\actions-runner\\_work\\xgboost\\xgboost\\src\\learner.cc:738: \n",
      "Parameters: { \"use_label_encoder\" } are not used.\n",
      "\n",
      "  bst.update(dtrain, iteration=i, fobj=obj)\n",
      "d:\\hospital\\venv\\Lib\\site-packages\\xgboost\\training.py:183: UserWarning: [22:30:52] WARNING: C:\\actions-runner\\_work\\xgboost\\xgboost\\src\\learner.cc:738: \n",
      "Parameters: { \"use_label_encoder\" } are not used.\n",
      "\n",
      "  bst.update(dtrain, iteration=i, fobj=obj)\n",
      "d:\\hospital\\venv\\Lib\\site-packages\\xgboost\\training.py:183: UserWarning: [22:30:53] WARNING: C:\\actions-runner\\_work\\xgboost\\xgboost\\src\\learner.cc:738: \n",
      "Parameters: { \"use_label_encoder\" } are not used.\n",
      "\n",
      "  bst.update(dtrain, iteration=i, fobj=obj)\n",
      "d:\\hospital\\venv\\Lib\\site-packages\\xgboost\\training.py:183: UserWarning: [22:30:54] WARNING: C:\\actions-runner\\_work\\xgboost\\xgboost\\src\\learner.cc:738: \n",
      "Parameters: { \"use_label_encoder\" } are not used.\n",
      "\n",
      "  bst.update(dtrain, iteration=i, fobj=obj)\n"
     ]
    },
    {
     "name": "stdout",
     "output_type": "stream",
     "text": [
      "[CV] END final_estimator__C=4.350192888948996, rf__max_depth=5, rf__max_features=sqrt, rf__n_estimators=147, xgb__colsample_bytree=0.7483273008793065, xgb__gamma=0.6688412526636073, xgb__learning_rate=0.07659223566174966, xgb__max_depth=6, xgb__n_estimators=185, xgb__subsample=0.9548850970305306; total time=  16.5s\n"
     ]
    },
    {
     "name": "stderr",
     "output_type": "stream",
     "text": [
      "d:\\hospital\\venv\\Lib\\site-packages\\xgboost\\training.py:183: UserWarning: [22:31:05] WARNING: C:\\actions-runner\\_work\\xgboost\\xgboost\\src\\learner.cc:738: \n",
      "Parameters: { \"use_label_encoder\" } are not used.\n",
      "\n",
      "  bst.update(dtrain, iteration=i, fobj=obj)\n",
      "d:\\hospital\\venv\\Lib\\site-packages\\xgboost\\training.py:183: UserWarning: [22:31:26] WARNING: C:\\actions-runner\\_work\\xgboost\\xgboost\\src\\learner.cc:738: \n",
      "Parameters: { \"use_label_encoder\" } are not used.\n",
      "\n",
      "  bst.update(dtrain, iteration=i, fobj=obj)\n",
      "d:\\hospital\\venv\\Lib\\site-packages\\xgboost\\training.py:183: UserWarning: [22:31:26] WARNING: C:\\actions-runner\\_work\\xgboost\\xgboost\\src\\learner.cc:738: \n",
      "Parameters: { \"use_label_encoder\" } are not used.\n",
      "\n",
      "  bst.update(dtrain, iteration=i, fobj=obj)\n",
      "d:\\hospital\\venv\\Lib\\site-packages\\xgboost\\training.py:183: UserWarning: [22:31:27] WARNING: C:\\actions-runner\\_work\\xgboost\\xgboost\\src\\learner.cc:738: \n",
      "Parameters: { \"use_label_encoder\" } are not used.\n",
      "\n",
      "  bst.update(dtrain, iteration=i, fobj=obj)\n",
      "d:\\hospital\\venv\\Lib\\site-packages\\xgboost\\training.py:183: UserWarning: [22:31:27] WARNING: C:\\actions-runner\\_work\\xgboost\\xgboost\\src\\learner.cc:738: \n",
      "Parameters: { \"use_label_encoder\" } are not used.\n",
      "\n",
      "  bst.update(dtrain, iteration=i, fobj=obj)\n",
      "d:\\hospital\\venv\\Lib\\site-packages\\xgboost\\training.py:183: UserWarning: [22:31:28] WARNING: C:\\actions-runner\\_work\\xgboost\\xgboost\\src\\learner.cc:738: \n",
      "Parameters: { \"use_label_encoder\" } are not used.\n",
      "\n",
      "  bst.update(dtrain, iteration=i, fobj=obj)\n"
     ]
    },
    {
     "name": "stdout",
     "output_type": "stream",
     "text": [
      "[CV] END final_estimator__C=2.4610746258097467, rf__max_depth=None, rf__max_features=sqrt, rf__n_estimators=177, xgb__colsample_bytree=0.9395655297064336, xgb__gamma=0.7217295211648732, xgb__learning_rate=0.033598491974895575, xgb__max_depth=4, xgb__n_estimators=126, xgb__subsample=0.8090931317527976; total time= 1.8min\n"
     ]
    },
    {
     "name": "stderr",
     "output_type": "stream",
     "text": [
      "d:\\hospital\\venv\\Lib\\site-packages\\xgboost\\training.py:183: UserWarning: [22:32:52] WARNING: C:\\actions-runner\\_work\\xgboost\\xgboost\\src\\learner.cc:738: \n",
      "Parameters: { \"use_label_encoder\" } are not used.\n",
      "\n",
      "  bst.update(dtrain, iteration=i, fobj=obj)\n",
      "d:\\hospital\\venv\\Lib\\site-packages\\xgboost\\training.py:183: UserWarning: [22:33:13] WARNING: C:\\actions-runner\\_work\\xgboost\\xgboost\\src\\learner.cc:738: \n",
      "Parameters: { \"use_label_encoder\" } are not used.\n",
      "\n",
      "  bst.update(dtrain, iteration=i, fobj=obj)\n",
      "d:\\hospital\\venv\\Lib\\site-packages\\xgboost\\training.py:183: UserWarning: [22:33:14] WARNING: C:\\actions-runner\\_work\\xgboost\\xgboost\\src\\learner.cc:738: \n",
      "Parameters: { \"use_label_encoder\" } are not used.\n",
      "\n",
      "  bst.update(dtrain, iteration=i, fobj=obj)\n",
      "d:\\hospital\\venv\\Lib\\site-packages\\xgboost\\training.py:183: UserWarning: [22:33:14] WARNING: C:\\actions-runner\\_work\\xgboost\\xgboost\\src\\learner.cc:738: \n",
      "Parameters: { \"use_label_encoder\" } are not used.\n",
      "\n",
      "  bst.update(dtrain, iteration=i, fobj=obj)\n",
      "d:\\hospital\\venv\\Lib\\site-packages\\xgboost\\training.py:183: UserWarning: [22:33:15] WARNING: C:\\actions-runner\\_work\\xgboost\\xgboost\\src\\learner.cc:738: \n",
      "Parameters: { \"use_label_encoder\" } are not used.\n",
      "\n",
      "  bst.update(dtrain, iteration=i, fobj=obj)\n",
      "d:\\hospital\\venv\\Lib\\site-packages\\xgboost\\training.py:183: UserWarning: [22:33:15] WARNING: C:\\actions-runner\\_work\\xgboost\\xgboost\\src\\learner.cc:738: \n",
      "Parameters: { \"use_label_encoder\" } are not used.\n",
      "\n",
      "  bst.update(dtrain, iteration=i, fobj=obj)\n"
     ]
    },
    {
     "name": "stdout",
     "output_type": "stream",
     "text": [
      "[CV] END final_estimator__C=2.4610746258097467, rf__max_depth=None, rf__max_features=sqrt, rf__n_estimators=177, xgb__colsample_bytree=0.9395655297064336, xgb__gamma=0.7217295211648732, xgb__learning_rate=0.033598491974895575, xgb__max_depth=4, xgb__n_estimators=126, xgb__subsample=0.8090931317527976; total time= 1.8min\n"
     ]
    },
    {
     "name": "stderr",
     "output_type": "stream",
     "text": [
      "d:\\hospital\\venv\\Lib\\site-packages\\xgboost\\training.py:183: UserWarning: [22:34:40] WARNING: C:\\actions-runner\\_work\\xgboost\\xgboost\\src\\learner.cc:738: \n",
      "Parameters: { \"use_label_encoder\" } are not used.\n",
      "\n",
      "  bst.update(dtrain, iteration=i, fobj=obj)\n",
      "d:\\hospital\\venv\\Lib\\site-packages\\xgboost\\training.py:183: UserWarning: [22:35:01] WARNING: C:\\actions-runner\\_work\\xgboost\\xgboost\\src\\learner.cc:738: \n",
      "Parameters: { \"use_label_encoder\" } are not used.\n",
      "\n",
      "  bst.update(dtrain, iteration=i, fobj=obj)\n",
      "d:\\hospital\\venv\\Lib\\site-packages\\xgboost\\training.py:183: UserWarning: [22:35:02] WARNING: C:\\actions-runner\\_work\\xgboost\\xgboost\\src\\learner.cc:738: \n",
      "Parameters: { \"use_label_encoder\" } are not used.\n",
      "\n",
      "  bst.update(dtrain, iteration=i, fobj=obj)\n",
      "d:\\hospital\\venv\\Lib\\site-packages\\xgboost\\training.py:183: UserWarning: [22:35:02] WARNING: C:\\actions-runner\\_work\\xgboost\\xgboost\\src\\learner.cc:738: \n",
      "Parameters: { \"use_label_encoder\" } are not used.\n",
      "\n",
      "  bst.update(dtrain, iteration=i, fobj=obj)\n",
      "d:\\hospital\\venv\\Lib\\site-packages\\xgboost\\training.py:183: UserWarning: [22:35:03] WARNING: C:\\actions-runner\\_work\\xgboost\\xgboost\\src\\learner.cc:738: \n",
      "Parameters: { \"use_label_encoder\" } are not used.\n",
      "\n",
      "  bst.update(dtrain, iteration=i, fobj=obj)\n",
      "d:\\hospital\\venv\\Lib\\site-packages\\xgboost\\training.py:183: UserWarning: [22:35:03] WARNING: C:\\actions-runner\\_work\\xgboost\\xgboost\\src\\learner.cc:738: \n",
      "Parameters: { \"use_label_encoder\" } are not used.\n",
      "\n",
      "  bst.update(dtrain, iteration=i, fobj=obj)\n"
     ]
    },
    {
     "name": "stdout",
     "output_type": "stream",
     "text": [
      "[CV] END final_estimator__C=2.4610746258097467, rf__max_depth=None, rf__max_features=sqrt, rf__n_estimators=177, xgb__colsample_bytree=0.9395655297064336, xgb__gamma=0.7217295211648732, xgb__learning_rate=0.033598491974895575, xgb__max_depth=4, xgb__n_estimators=126, xgb__subsample=0.8090931317527976; total time= 1.8min\n"
     ]
    },
    {
     "name": "stderr",
     "output_type": "stream",
     "text": [
      "d:\\hospital\\venv\\Lib\\site-packages\\xgboost\\training.py:183: UserWarning: [22:36:28] WARNING: C:\\actions-runner\\_work\\xgboost\\xgboost\\src\\learner.cc:738: \n",
      "Parameters: { \"use_label_encoder\" } are not used.\n",
      "\n",
      "  bst.update(dtrain, iteration=i, fobj=obj)\n",
      "d:\\hospital\\venv\\Lib\\site-packages\\xgboost\\training.py:183: UserWarning: [22:36:31] WARNING: C:\\actions-runner\\_work\\xgboost\\xgboost\\src\\learner.cc:738: \n",
      "Parameters: { \"use_label_encoder\" } are not used.\n",
      "\n",
      "  bst.update(dtrain, iteration=i, fobj=obj)\n",
      "d:\\hospital\\venv\\Lib\\site-packages\\xgboost\\training.py:183: UserWarning: [22:36:31] WARNING: C:\\actions-runner\\_work\\xgboost\\xgboost\\src\\learner.cc:738: \n",
      "Parameters: { \"use_label_encoder\" } are not used.\n",
      "\n",
      "  bst.update(dtrain, iteration=i, fobj=obj)\n",
      "d:\\hospital\\venv\\Lib\\site-packages\\xgboost\\training.py:183: UserWarning: [22:36:32] WARNING: C:\\actions-runner\\_work\\xgboost\\xgboost\\src\\learner.cc:738: \n",
      "Parameters: { \"use_label_encoder\" } are not used.\n",
      "\n",
      "  bst.update(dtrain, iteration=i, fobj=obj)\n",
      "d:\\hospital\\venv\\Lib\\site-packages\\xgboost\\training.py:183: UserWarning: [22:36:33] WARNING: C:\\actions-runner\\_work\\xgboost\\xgboost\\src\\learner.cc:738: \n",
      "Parameters: { \"use_label_encoder\" } are not used.\n",
      "\n",
      "  bst.update(dtrain, iteration=i, fobj=obj)\n",
      "d:\\hospital\\venv\\Lib\\site-packages\\xgboost\\training.py:183: UserWarning: [22:36:33] WARNING: C:\\actions-runner\\_work\\xgboost\\xgboost\\src\\learner.cc:738: \n",
      "Parameters: { \"use_label_encoder\" } are not used.\n",
      "\n",
      "  bst.update(dtrain, iteration=i, fobj=obj)\n"
     ]
    },
    {
     "name": "stdout",
     "output_type": "stream",
     "text": [
      "[CV] END final_estimator__C=2.237705091792748, rf__max_depth=5, rf__max_features=log2, rf__n_estimators=176, xgb__colsample_bytree=0.6806876809341584, xgb__gamma=0.8957635956735194, xgb__learning_rate=0.05753702231821118, xgb__max_depth=3, xgb__n_estimators=195, xgb__subsample=0.878206434570451; total time=  13.3s\n"
     ]
    },
    {
     "name": "stderr",
     "output_type": "stream",
     "text": [
      "d:\\hospital\\venv\\Lib\\site-packages\\xgboost\\training.py:183: UserWarning: [22:36:42] WARNING: C:\\actions-runner\\_work\\xgboost\\xgboost\\src\\learner.cc:738: \n",
      "Parameters: { \"use_label_encoder\" } are not used.\n",
      "\n",
      "  bst.update(dtrain, iteration=i, fobj=obj)\n",
      "d:\\hospital\\venv\\Lib\\site-packages\\xgboost\\training.py:183: UserWarning: [22:36:44] WARNING: C:\\actions-runner\\_work\\xgboost\\xgboost\\src\\learner.cc:738: \n",
      "Parameters: { \"use_label_encoder\" } are not used.\n",
      "\n",
      "  bst.update(dtrain, iteration=i, fobj=obj)\n",
      "d:\\hospital\\venv\\Lib\\site-packages\\xgboost\\training.py:183: UserWarning: [22:36:45] WARNING: C:\\actions-runner\\_work\\xgboost\\xgboost\\src\\learner.cc:738: \n",
      "Parameters: { \"use_label_encoder\" } are not used.\n",
      "\n",
      "  bst.update(dtrain, iteration=i, fobj=obj)\n",
      "d:\\hospital\\venv\\Lib\\site-packages\\xgboost\\training.py:183: UserWarning: [22:36:45] WARNING: C:\\actions-runner\\_work\\xgboost\\xgboost\\src\\learner.cc:738: \n",
      "Parameters: { \"use_label_encoder\" } are not used.\n",
      "\n",
      "  bst.update(dtrain, iteration=i, fobj=obj)\n",
      "d:\\hospital\\venv\\Lib\\site-packages\\xgboost\\training.py:183: UserWarning: [22:36:46] WARNING: C:\\actions-runner\\_work\\xgboost\\xgboost\\src\\learner.cc:738: \n",
      "Parameters: { \"use_label_encoder\" } are not used.\n",
      "\n",
      "  bst.update(dtrain, iteration=i, fobj=obj)\n",
      "d:\\hospital\\venv\\Lib\\site-packages\\xgboost\\training.py:183: UserWarning: [22:36:46] WARNING: C:\\actions-runner\\_work\\xgboost\\xgboost\\src\\learner.cc:738: \n",
      "Parameters: { \"use_label_encoder\" } are not used.\n",
      "\n",
      "  bst.update(dtrain, iteration=i, fobj=obj)\n"
     ]
    },
    {
     "name": "stdout",
     "output_type": "stream",
     "text": [
      "[CV] END final_estimator__C=2.237705091792748, rf__max_depth=5, rf__max_features=log2, rf__n_estimators=176, xgb__colsample_bytree=0.6806876809341584, xgb__gamma=0.8957635956735194, xgb__learning_rate=0.05753702231821118, xgb__max_depth=3, xgb__n_estimators=195, xgb__subsample=0.878206434570451; total time=  12.9s\n"
     ]
    },
    {
     "name": "stderr",
     "output_type": "stream",
     "text": [
      "d:\\hospital\\venv\\Lib\\site-packages\\xgboost\\training.py:183: UserWarning: [22:36:55] WARNING: C:\\actions-runner\\_work\\xgboost\\xgboost\\src\\learner.cc:738: \n",
      "Parameters: { \"use_label_encoder\" } are not used.\n",
      "\n",
      "  bst.update(dtrain, iteration=i, fobj=obj)\n",
      "d:\\hospital\\venv\\Lib\\site-packages\\xgboost\\training.py:183: UserWarning: [22:36:57] WARNING: C:\\actions-runner\\_work\\xgboost\\xgboost\\src\\learner.cc:738: \n",
      "Parameters: { \"use_label_encoder\" } are not used.\n",
      "\n",
      "  bst.update(dtrain, iteration=i, fobj=obj)\n",
      "d:\\hospital\\venv\\Lib\\site-packages\\xgboost\\training.py:183: UserWarning: [22:36:58] WARNING: C:\\actions-runner\\_work\\xgboost\\xgboost\\src\\learner.cc:738: \n",
      "Parameters: { \"use_label_encoder\" } are not used.\n",
      "\n",
      "  bst.update(dtrain, iteration=i, fobj=obj)\n",
      "d:\\hospital\\venv\\Lib\\site-packages\\xgboost\\training.py:183: UserWarning: [22:36:58] WARNING: C:\\actions-runner\\_work\\xgboost\\xgboost\\src\\learner.cc:738: \n",
      "Parameters: { \"use_label_encoder\" } are not used.\n",
      "\n",
      "  bst.update(dtrain, iteration=i, fobj=obj)\n",
      "d:\\hospital\\venv\\Lib\\site-packages\\xgboost\\training.py:183: UserWarning: [22:36:59] WARNING: C:\\actions-runner\\_work\\xgboost\\xgboost\\src\\learner.cc:738: \n",
      "Parameters: { \"use_label_encoder\" } are not used.\n",
      "\n",
      "  bst.update(dtrain, iteration=i, fobj=obj)\n",
      "d:\\hospital\\venv\\Lib\\site-packages\\xgboost\\training.py:183: UserWarning: [22:36:59] WARNING: C:\\actions-runner\\_work\\xgboost\\xgboost\\src\\learner.cc:738: \n",
      "Parameters: { \"use_label_encoder\" } are not used.\n",
      "\n",
      "  bst.update(dtrain, iteration=i, fobj=obj)\n"
     ]
    },
    {
     "name": "stdout",
     "output_type": "stream",
     "text": [
      "[CV] END final_estimator__C=2.237705091792748, rf__max_depth=5, rf__max_features=log2, rf__n_estimators=176, xgb__colsample_bytree=0.6806876809341584, xgb__gamma=0.8957635956735194, xgb__learning_rate=0.05753702231821118, xgb__max_depth=3, xgb__n_estimators=195, xgb__subsample=0.878206434570451; total time=  13.0s\n"
     ]
    },
    {
     "name": "stderr",
     "output_type": "stream",
     "text": [
      "d:\\hospital\\venv\\Lib\\site-packages\\xgboost\\training.py:183: UserWarning: [22:37:08] WARNING: C:\\actions-runner\\_work\\xgboost\\xgboost\\src\\learner.cc:738: \n",
      "Parameters: { \"use_label_encoder\" } are not used.\n",
      "\n",
      "  bst.update(dtrain, iteration=i, fobj=obj)\n",
      "d:\\hospital\\venv\\Lib\\site-packages\\xgboost\\training.py:183: UserWarning: [22:37:13] WARNING: C:\\actions-runner\\_work\\xgboost\\xgboost\\src\\learner.cc:738: \n",
      "Parameters: { \"use_label_encoder\" } are not used.\n",
      "\n",
      "  bst.update(dtrain, iteration=i, fobj=obj)\n",
      "d:\\hospital\\venv\\Lib\\site-packages\\xgboost\\training.py:183: UserWarning: [22:37:13] WARNING: C:\\actions-runner\\_work\\xgboost\\xgboost\\src\\learner.cc:738: \n",
      "Parameters: { \"use_label_encoder\" } are not used.\n",
      "\n",
      "  bst.update(dtrain, iteration=i, fobj=obj)\n",
      "d:\\hospital\\venv\\Lib\\site-packages\\xgboost\\training.py:183: UserWarning: [22:37:14] WARNING: C:\\actions-runner\\_work\\xgboost\\xgboost\\src\\learner.cc:738: \n",
      "Parameters: { \"use_label_encoder\" } are not used.\n",
      "\n",
      "  bst.update(dtrain, iteration=i, fobj=obj)\n",
      "d:\\hospital\\venv\\Lib\\site-packages\\xgboost\\training.py:183: UserWarning: [22:37:15] WARNING: C:\\actions-runner\\_work\\xgboost\\xgboost\\src\\learner.cc:738: \n",
      "Parameters: { \"use_label_encoder\" } are not used.\n",
      "\n",
      "  bst.update(dtrain, iteration=i, fobj=obj)\n",
      "d:\\hospital\\venv\\Lib\\site-packages\\xgboost\\training.py:183: UserWarning: [22:37:16] WARNING: C:\\actions-runner\\_work\\xgboost\\xgboost\\src\\learner.cc:738: \n",
      "Parameters: { \"use_label_encoder\" } are not used.\n",
      "\n",
      "  bst.update(dtrain, iteration=i, fobj=obj)\n"
     ]
    },
    {
     "name": "stdout",
     "output_type": "stream",
     "text": [
      "[CV] END final_estimator__C=0.7966572720293784, rf__max_depth=10, rf__max_features=sqrt, rf__n_estimators=114, xgb__colsample_bytree=0.9022204554172195, xgb__gamma=0.22879816549162246, xgb__learning_rate=0.0176979909828793, xgb__max_depth=5, xgb__n_estimators=185, xgb__subsample=0.9521871356061031; total time=  26.4s\n"
     ]
    },
    {
     "name": "stderr",
     "output_type": "stream",
     "text": [
      "d:\\hospital\\venv\\Lib\\site-packages\\xgboost\\training.py:183: UserWarning: [22:37:35] WARNING: C:\\actions-runner\\_work\\xgboost\\xgboost\\src\\learner.cc:738: \n",
      "Parameters: { \"use_label_encoder\" } are not used.\n",
      "\n",
      "  bst.update(dtrain, iteration=i, fobj=obj)\n",
      "d:\\hospital\\venv\\Lib\\site-packages\\xgboost\\training.py:183: UserWarning: [22:37:40] WARNING: C:\\actions-runner\\_work\\xgboost\\xgboost\\src\\learner.cc:738: \n",
      "Parameters: { \"use_label_encoder\" } are not used.\n",
      "\n",
      "  bst.update(dtrain, iteration=i, fobj=obj)\n",
      "d:\\hospital\\venv\\Lib\\site-packages\\xgboost\\training.py:183: UserWarning: [22:37:40] WARNING: C:\\actions-runner\\_work\\xgboost\\xgboost\\src\\learner.cc:738: \n",
      "Parameters: { \"use_label_encoder\" } are not used.\n",
      "\n",
      "  bst.update(dtrain, iteration=i, fobj=obj)\n",
      "d:\\hospital\\venv\\Lib\\site-packages\\xgboost\\training.py:183: UserWarning: [22:37:41] WARNING: C:\\actions-runner\\_work\\xgboost\\xgboost\\src\\learner.cc:738: \n",
      "Parameters: { \"use_label_encoder\" } are not used.\n",
      "\n",
      "  bst.update(dtrain, iteration=i, fobj=obj)\n",
      "d:\\hospital\\venv\\Lib\\site-packages\\xgboost\\training.py:183: UserWarning: [22:37:42] WARNING: C:\\actions-runner\\_work\\xgboost\\xgboost\\src\\learner.cc:738: \n",
      "Parameters: { \"use_label_encoder\" } are not used.\n",
      "\n",
      "  bst.update(dtrain, iteration=i, fobj=obj)\n",
      "d:\\hospital\\venv\\Lib\\site-packages\\xgboost\\training.py:183: UserWarning: [22:37:43] WARNING: C:\\actions-runner\\_work\\xgboost\\xgboost\\src\\learner.cc:738: \n",
      "Parameters: { \"use_label_encoder\" } are not used.\n",
      "\n",
      "  bst.update(dtrain, iteration=i, fobj=obj)\n"
     ]
    },
    {
     "name": "stdout",
     "output_type": "stream",
     "text": [
      "[CV] END final_estimator__C=0.7966572720293784, rf__max_depth=10, rf__max_features=sqrt, rf__n_estimators=114, xgb__colsample_bytree=0.9022204554172195, xgb__gamma=0.22879816549162246, xgb__learning_rate=0.0176979909828793, xgb__max_depth=5, xgb__n_estimators=185, xgb__subsample=0.9521871356061031; total time=  26.5s\n"
     ]
    },
    {
     "name": "stderr",
     "output_type": "stream",
     "text": [
      "d:\\hospital\\venv\\Lib\\site-packages\\xgboost\\training.py:183: UserWarning: [22:38:01] WARNING: C:\\actions-runner\\_work\\xgboost\\xgboost\\src\\learner.cc:738: \n",
      "Parameters: { \"use_label_encoder\" } are not used.\n",
      "\n",
      "  bst.update(dtrain, iteration=i, fobj=obj)\n",
      "d:\\hospital\\venv\\Lib\\site-packages\\xgboost\\training.py:183: UserWarning: [22:38:06] WARNING: C:\\actions-runner\\_work\\xgboost\\xgboost\\src\\learner.cc:738: \n",
      "Parameters: { \"use_label_encoder\" } are not used.\n",
      "\n",
      "  bst.update(dtrain, iteration=i, fobj=obj)\n",
      "d:\\hospital\\venv\\Lib\\site-packages\\xgboost\\training.py:183: UserWarning: [22:38:07] WARNING: C:\\actions-runner\\_work\\xgboost\\xgboost\\src\\learner.cc:738: \n",
      "Parameters: { \"use_label_encoder\" } are not used.\n",
      "\n",
      "  bst.update(dtrain, iteration=i, fobj=obj)\n",
      "d:\\hospital\\venv\\Lib\\site-packages\\xgboost\\training.py:183: UserWarning: [22:38:08] WARNING: C:\\actions-runner\\_work\\xgboost\\xgboost\\src\\learner.cc:738: \n",
      "Parameters: { \"use_label_encoder\" } are not used.\n",
      "\n",
      "  bst.update(dtrain, iteration=i, fobj=obj)\n",
      "d:\\hospital\\venv\\Lib\\site-packages\\xgboost\\training.py:183: UserWarning: [22:38:08] WARNING: C:\\actions-runner\\_work\\xgboost\\xgboost\\src\\learner.cc:738: \n",
      "Parameters: { \"use_label_encoder\" } are not used.\n",
      "\n",
      "  bst.update(dtrain, iteration=i, fobj=obj)\n",
      "d:\\hospital\\venv\\Lib\\site-packages\\xgboost\\training.py:183: UserWarning: [22:38:09] WARNING: C:\\actions-runner\\_work\\xgboost\\xgboost\\src\\learner.cc:738: \n",
      "Parameters: { \"use_label_encoder\" } are not used.\n",
      "\n",
      "  bst.update(dtrain, iteration=i, fobj=obj)\n"
     ]
    },
    {
     "name": "stdout",
     "output_type": "stream",
     "text": [
      "[CV] END final_estimator__C=0.7966572720293784, rf__max_depth=10, rf__max_features=sqrt, rf__n_estimators=114, xgb__colsample_bytree=0.9022204554172195, xgb__gamma=0.22879816549162246, xgb__learning_rate=0.0176979909828793, xgb__max_depth=5, xgb__n_estimators=185, xgb__subsample=0.9521871356061031; total time=  24.9s\n"
     ]
    },
    {
     "name": "stderr",
     "output_type": "stream",
     "text": [
      "d:\\hospital\\venv\\Lib\\site-packages\\xgboost\\training.py:183: UserWarning: [22:38:26] WARNING: C:\\actions-runner\\_work\\xgboost\\xgboost\\src\\learner.cc:738: \n",
      "Parameters: { \"use_label_encoder\" } are not used.\n",
      "\n",
      "  bst.update(dtrain, iteration=i, fobj=obj)\n",
      "d:\\hospital\\venv\\Lib\\site-packages\\xgboost\\training.py:183: UserWarning: [22:38:28] WARNING: C:\\actions-runner\\_work\\xgboost\\xgboost\\src\\learner.cc:738: \n",
      "Parameters: { \"use_label_encoder\" } are not used.\n",
      "\n",
      "  bst.update(dtrain, iteration=i, fobj=obj)\n",
      "d:\\hospital\\venv\\Lib\\site-packages\\xgboost\\training.py:183: UserWarning: [22:38:29] WARNING: C:\\actions-runner\\_work\\xgboost\\xgboost\\src\\learner.cc:738: \n",
      "Parameters: { \"use_label_encoder\" } are not used.\n",
      "\n",
      "  bst.update(dtrain, iteration=i, fobj=obj)\n",
      "d:\\hospital\\venv\\Lib\\site-packages\\xgboost\\training.py:183: UserWarning: [22:38:30] WARNING: C:\\actions-runner\\_work\\xgboost\\xgboost\\src\\learner.cc:738: \n",
      "Parameters: { \"use_label_encoder\" } are not used.\n",
      "\n",
      "  bst.update(dtrain, iteration=i, fobj=obj)\n",
      "d:\\hospital\\venv\\Lib\\site-packages\\xgboost\\training.py:183: UserWarning: [22:38:30] WARNING: C:\\actions-runner\\_work\\xgboost\\xgboost\\src\\learner.cc:738: \n",
      "Parameters: { \"use_label_encoder\" } are not used.\n",
      "\n",
      "  bst.update(dtrain, iteration=i, fobj=obj)\n",
      "d:\\hospital\\venv\\Lib\\site-packages\\xgboost\\training.py:183: UserWarning: [22:38:31] WARNING: C:\\actions-runner\\_work\\xgboost\\xgboost\\src\\learner.cc:738: \n",
      "Parameters: { \"use_label_encoder\" } are not used.\n",
      "\n",
      "  bst.update(dtrain, iteration=i, fobj=obj)\n"
     ]
    },
    {
     "name": "stdout",
     "output_type": "stream",
     "text": [
      "[CV] END final_estimator__C=3.2217702406689663, rf__max_depth=5, rf__max_features=sqrt, rf__n_estimators=105, xgb__colsample_bytree=0.782613828193164, xgb__gamma=0.2184404372168336, xgb__learning_rate=0.05165099478703663, xgb__max_depth=4, xgb__n_estimators=174, xgb__subsample=0.7297380084021096; total time=  12.4s\n"
     ]
    },
    {
     "name": "stderr",
     "output_type": "stream",
     "text": [
      "d:\\hospital\\venv\\Lib\\site-packages\\xgboost\\training.py:183: UserWarning: [22:38:39] WARNING: C:\\actions-runner\\_work\\xgboost\\xgboost\\src\\learner.cc:738: \n",
      "Parameters: { \"use_label_encoder\" } are not used.\n",
      "\n",
      "  bst.update(dtrain, iteration=i, fobj=obj)\n",
      "d:\\hospital\\venv\\Lib\\site-packages\\xgboost\\training.py:183: UserWarning: [22:38:41] WARNING: C:\\actions-runner\\_work\\xgboost\\xgboost\\src\\learner.cc:738: \n",
      "Parameters: { \"use_label_encoder\" } are not used.\n",
      "\n",
      "  bst.update(dtrain, iteration=i, fobj=obj)\n",
      "d:\\hospital\\venv\\Lib\\site-packages\\xgboost\\training.py:183: UserWarning: [22:38:42] WARNING: C:\\actions-runner\\_work\\xgboost\\xgboost\\src\\learner.cc:738: \n",
      "Parameters: { \"use_label_encoder\" } are not used.\n",
      "\n",
      "  bst.update(dtrain, iteration=i, fobj=obj)\n",
      "d:\\hospital\\venv\\Lib\\site-packages\\xgboost\\training.py:183: UserWarning: [22:38:42] WARNING: C:\\actions-runner\\_work\\xgboost\\xgboost\\src\\learner.cc:738: \n",
      "Parameters: { \"use_label_encoder\" } are not used.\n",
      "\n",
      "  bst.update(dtrain, iteration=i, fobj=obj)\n",
      "d:\\hospital\\venv\\Lib\\site-packages\\xgboost\\training.py:183: UserWarning: [22:38:43] WARNING: C:\\actions-runner\\_work\\xgboost\\xgboost\\src\\learner.cc:738: \n",
      "Parameters: { \"use_label_encoder\" } are not used.\n",
      "\n",
      "  bst.update(dtrain, iteration=i, fobj=obj)\n",
      "d:\\hospital\\venv\\Lib\\site-packages\\xgboost\\training.py:183: UserWarning: [22:38:43] WARNING: C:\\actions-runner\\_work\\xgboost\\xgboost\\src\\learner.cc:738: \n",
      "Parameters: { \"use_label_encoder\" } are not used.\n",
      "\n",
      "  bst.update(dtrain, iteration=i, fobj=obj)\n"
     ]
    },
    {
     "name": "stdout",
     "output_type": "stream",
     "text": [
      "[CV] END final_estimator__C=3.2217702406689663, rf__max_depth=5, rf__max_features=sqrt, rf__n_estimators=105, xgb__colsample_bytree=0.782613828193164, xgb__gamma=0.2184404372168336, xgb__learning_rate=0.05165099478703663, xgb__max_depth=4, xgb__n_estimators=174, xgb__subsample=0.7297380084021096; total time=  12.4s\n"
     ]
    },
    {
     "name": "stderr",
     "output_type": "stream",
     "text": [
      "d:\\hospital\\venv\\Lib\\site-packages\\xgboost\\training.py:183: UserWarning: [22:38:51] WARNING: C:\\actions-runner\\_work\\xgboost\\xgboost\\src\\learner.cc:738: \n",
      "Parameters: { \"use_label_encoder\" } are not used.\n",
      "\n",
      "  bst.update(dtrain, iteration=i, fobj=obj)\n",
      "d:\\hospital\\venv\\Lib\\site-packages\\xgboost\\training.py:183: UserWarning: [22:38:54] WARNING: C:\\actions-runner\\_work\\xgboost\\xgboost\\src\\learner.cc:738: \n",
      "Parameters: { \"use_label_encoder\" } are not used.\n",
      "\n",
      "  bst.update(dtrain, iteration=i, fobj=obj)\n",
      "d:\\hospital\\venv\\Lib\\site-packages\\xgboost\\training.py:183: UserWarning: [22:38:54] WARNING: C:\\actions-runner\\_work\\xgboost\\xgboost\\src\\learner.cc:738: \n",
      "Parameters: { \"use_label_encoder\" } are not used.\n",
      "\n",
      "  bst.update(dtrain, iteration=i, fobj=obj)\n",
      "d:\\hospital\\venv\\Lib\\site-packages\\xgboost\\training.py:183: UserWarning: [22:38:55] WARNING: C:\\actions-runner\\_work\\xgboost\\xgboost\\src\\learner.cc:738: \n",
      "Parameters: { \"use_label_encoder\" } are not used.\n",
      "\n",
      "  bst.update(dtrain, iteration=i, fobj=obj)\n",
      "d:\\hospital\\venv\\Lib\\site-packages\\xgboost\\training.py:183: UserWarning: [22:38:55] WARNING: C:\\actions-runner\\_work\\xgboost\\xgboost\\src\\learner.cc:738: \n",
      "Parameters: { \"use_label_encoder\" } are not used.\n",
      "\n",
      "  bst.update(dtrain, iteration=i, fobj=obj)\n",
      "d:\\hospital\\venv\\Lib\\site-packages\\xgboost\\training.py:183: UserWarning: [22:38:56] WARNING: C:\\actions-runner\\_work\\xgboost\\xgboost\\src\\learner.cc:738: \n",
      "Parameters: { \"use_label_encoder\" } are not used.\n",
      "\n",
      "  bst.update(dtrain, iteration=i, fobj=obj)\n"
     ]
    },
    {
     "name": "stdout",
     "output_type": "stream",
     "text": [
      "[CV] END final_estimator__C=3.2217702406689663, rf__max_depth=5, rf__max_features=sqrt, rf__n_estimators=105, xgb__colsample_bytree=0.782613828193164, xgb__gamma=0.2184404372168336, xgb__learning_rate=0.05165099478703663, xgb__max_depth=4, xgb__n_estimators=174, xgb__subsample=0.7297380084021096; total time=  12.5s\n"
     ]
    },
    {
     "name": "stderr",
     "output_type": "stream",
     "text": [
      "d:\\hospital\\venv\\Lib\\site-packages\\xgboost\\training.py:183: UserWarning: [22:39:04] WARNING: C:\\actions-runner\\_work\\xgboost\\xgboost\\src\\learner.cc:738: \n",
      "Parameters: { \"use_label_encoder\" } are not used.\n",
      "\n",
      "  bst.update(dtrain, iteration=i, fobj=obj)\n",
      "d:\\hospital\\venv\\Lib\\site-packages\\xgboost\\training.py:183: UserWarning: [22:39:23] WARNING: C:\\actions-runner\\_work\\xgboost\\xgboost\\src\\learner.cc:738: \n",
      "Parameters: { \"use_label_encoder\" } are not used.\n",
      "\n",
      "  bst.update(dtrain, iteration=i, fobj=obj)\n",
      "d:\\hospital\\venv\\Lib\\site-packages\\xgboost\\training.py:183: UserWarning: [22:39:24] WARNING: C:\\actions-runner\\_work\\xgboost\\xgboost\\src\\learner.cc:738: \n",
      "Parameters: { \"use_label_encoder\" } are not used.\n",
      "\n",
      "  bst.update(dtrain, iteration=i, fobj=obj)\n",
      "d:\\hospital\\venv\\Lib\\site-packages\\xgboost\\training.py:183: UserWarning: [22:39:25] WARNING: C:\\actions-runner\\_work\\xgboost\\xgboost\\src\\learner.cc:738: \n",
      "Parameters: { \"use_label_encoder\" } are not used.\n",
      "\n",
      "  bst.update(dtrain, iteration=i, fobj=obj)\n",
      "d:\\hospital\\venv\\Lib\\site-packages\\xgboost\\training.py:183: UserWarning: [22:39:25] WARNING: C:\\actions-runner\\_work\\xgboost\\xgboost\\src\\learner.cc:738: \n",
      "Parameters: { \"use_label_encoder\" } are not used.\n",
      "\n",
      "  bst.update(dtrain, iteration=i, fobj=obj)\n",
      "d:\\hospital\\venv\\Lib\\site-packages\\xgboost\\training.py:183: UserWarning: [22:39:26] WARNING: C:\\actions-runner\\_work\\xgboost\\xgboost\\src\\learner.cc:738: \n",
      "Parameters: { \"use_label_encoder\" } are not used.\n",
      "\n",
      "  bst.update(dtrain, iteration=i, fobj=obj)\n"
     ]
    },
    {
     "name": "stdout",
     "output_type": "stream",
     "text": [
      "[CV] END final_estimator__C=0.7104397735033667, rf__max_depth=None, rf__max_features=sqrt, rf__n_estimators=161, xgb__colsample_bytree=0.6440207698110707, xgb__gamma=0.22793516254194168, xgb__learning_rate=0.05271077886262564, xgb__max_depth=6, xgb__n_estimators=176, xgb__subsample=0.9442922333025374; total time= 1.7min\n"
     ]
    },
    {
     "name": "stderr",
     "output_type": "stream",
     "text": [
      "d:\\hospital\\venv\\Lib\\site-packages\\xgboost\\training.py:183: UserWarning: [22:40:45] WARNING: C:\\actions-runner\\_work\\xgboost\\xgboost\\src\\learner.cc:738: \n",
      "Parameters: { \"use_label_encoder\" } are not used.\n",
      "\n",
      "  bst.update(dtrain, iteration=i, fobj=obj)\n",
      "d:\\hospital\\venv\\Lib\\site-packages\\xgboost\\training.py:183: UserWarning: [22:41:05] WARNING: C:\\actions-runner\\_work\\xgboost\\xgboost\\src\\learner.cc:738: \n",
      "Parameters: { \"use_label_encoder\" } are not used.\n",
      "\n",
      "  bst.update(dtrain, iteration=i, fobj=obj)\n",
      "d:\\hospital\\venv\\Lib\\site-packages\\xgboost\\training.py:183: UserWarning: [22:41:06] WARNING: C:\\actions-runner\\_work\\xgboost\\xgboost\\src\\learner.cc:738: \n",
      "Parameters: { \"use_label_encoder\" } are not used.\n",
      "\n",
      "  bst.update(dtrain, iteration=i, fobj=obj)\n",
      "d:\\hospital\\venv\\Lib\\site-packages\\xgboost\\training.py:183: UserWarning: [22:41:06] WARNING: C:\\actions-runner\\_work\\xgboost\\xgboost\\src\\learner.cc:738: \n",
      "Parameters: { \"use_label_encoder\" } are not used.\n",
      "\n",
      "  bst.update(dtrain, iteration=i, fobj=obj)\n",
      "d:\\hospital\\venv\\Lib\\site-packages\\xgboost\\training.py:183: UserWarning: [22:41:07] WARNING: C:\\actions-runner\\_work\\xgboost\\xgboost\\src\\learner.cc:738: \n",
      "Parameters: { \"use_label_encoder\" } are not used.\n",
      "\n",
      "  bst.update(dtrain, iteration=i, fobj=obj)\n",
      "d:\\hospital\\venv\\Lib\\site-packages\\xgboost\\training.py:183: UserWarning: [22:41:08] WARNING: C:\\actions-runner\\_work\\xgboost\\xgboost\\src\\learner.cc:738: \n",
      "Parameters: { \"use_label_encoder\" } are not used.\n",
      "\n",
      "  bst.update(dtrain, iteration=i, fobj=obj)\n"
     ]
    },
    {
     "name": "stdout",
     "output_type": "stream",
     "text": [
      "[CV] END final_estimator__C=0.7104397735033667, rf__max_depth=None, rf__max_features=sqrt, rf__n_estimators=161, xgb__colsample_bytree=0.6440207698110707, xgb__gamma=0.22793516254194168, xgb__learning_rate=0.05271077886262564, xgb__max_depth=6, xgb__n_estimators=176, xgb__subsample=0.9442922333025374; total time= 1.6min\n"
     ]
    },
    {
     "name": "stderr",
     "output_type": "stream",
     "text": [
      "d:\\hospital\\venv\\Lib\\site-packages\\xgboost\\training.py:183: UserWarning: [22:42:22] WARNING: C:\\actions-runner\\_work\\xgboost\\xgboost\\src\\learner.cc:738: \n",
      "Parameters: { \"use_label_encoder\" } are not used.\n",
      "\n",
      "  bst.update(dtrain, iteration=i, fobj=obj)\n",
      "d:\\hospital\\venv\\Lib\\site-packages\\xgboost\\training.py:183: UserWarning: [22:42:39] WARNING: C:\\actions-runner\\_work\\xgboost\\xgboost\\src\\learner.cc:738: \n",
      "Parameters: { \"use_label_encoder\" } are not used.\n",
      "\n",
      "  bst.update(dtrain, iteration=i, fobj=obj)\n",
      "d:\\hospital\\venv\\Lib\\site-packages\\xgboost\\training.py:183: UserWarning: [22:42:40] WARNING: C:\\actions-runner\\_work\\xgboost\\xgboost\\src\\learner.cc:738: \n",
      "Parameters: { \"use_label_encoder\" } are not used.\n",
      "\n",
      "  bst.update(dtrain, iteration=i, fobj=obj)\n",
      "d:\\hospital\\venv\\Lib\\site-packages\\xgboost\\training.py:183: UserWarning: [22:42:41] WARNING: C:\\actions-runner\\_work\\xgboost\\xgboost\\src\\learner.cc:738: \n",
      "Parameters: { \"use_label_encoder\" } are not used.\n",
      "\n",
      "  bst.update(dtrain, iteration=i, fobj=obj)\n",
      "d:\\hospital\\venv\\Lib\\site-packages\\xgboost\\training.py:183: UserWarning: [22:42:41] WARNING: C:\\actions-runner\\_work\\xgboost\\xgboost\\src\\learner.cc:738: \n",
      "Parameters: { \"use_label_encoder\" } are not used.\n",
      "\n",
      "  bst.update(dtrain, iteration=i, fobj=obj)\n",
      "d:\\hospital\\venv\\Lib\\site-packages\\xgboost\\training.py:183: UserWarning: [22:42:42] WARNING: C:\\actions-runner\\_work\\xgboost\\xgboost\\src\\learner.cc:738: \n",
      "Parameters: { \"use_label_encoder\" } are not used.\n",
      "\n",
      "  bst.update(dtrain, iteration=i, fobj=obj)\n"
     ]
    },
    {
     "name": "stdout",
     "output_type": "stream",
     "text": [
      "[CV] END final_estimator__C=0.7104397735033667, rf__max_depth=None, rf__max_features=sqrt, rf__n_estimators=161, xgb__colsample_bytree=0.6440207698110707, xgb__gamma=0.22793516254194168, xgb__learning_rate=0.05271077886262564, xgb__max_depth=6, xgb__n_estimators=176, xgb__subsample=0.9442922333025374; total time= 1.5min\n"
     ]
    },
    {
     "name": "stderr",
     "output_type": "stream",
     "text": [
      "d:\\hospital\\venv\\Lib\\site-packages\\xgboost\\training.py:183: UserWarning: [22:43:53] WARNING: C:\\actions-runner\\_work\\xgboost\\xgboost\\src\\learner.cc:738: \n",
      "Parameters: { \"use_label_encoder\" } are not used.\n",
      "\n",
      "  bst.update(dtrain, iteration=i, fobj=obj)\n",
      "d:\\hospital\\venv\\Lib\\site-packages\\xgboost\\training.py:183: UserWarning: [22:44:02] WARNING: C:\\actions-runner\\_work\\xgboost\\xgboost\\src\\learner.cc:738: \n",
      "Parameters: { \"use_label_encoder\" } are not used.\n",
      "\n",
      "  bst.update(dtrain, iteration=i, fobj=obj)\n",
      "d:\\hospital\\venv\\Lib\\site-packages\\xgboost\\training.py:183: UserWarning: [22:44:03] WARNING: C:\\actions-runner\\_work\\xgboost\\xgboost\\src\\learner.cc:738: \n",
      "Parameters: { \"use_label_encoder\" } are not used.\n",
      "\n",
      "  bst.update(dtrain, iteration=i, fobj=obj)\n",
      "d:\\hospital\\venv\\Lib\\site-packages\\xgboost\\training.py:183: UserWarning: [22:44:04] WARNING: C:\\actions-runner\\_work\\xgboost\\xgboost\\src\\learner.cc:738: \n",
      "Parameters: { \"use_label_encoder\" } are not used.\n",
      "\n",
      "  bst.update(dtrain, iteration=i, fobj=obj)\n",
      "d:\\hospital\\venv\\Lib\\site-packages\\xgboost\\training.py:183: UserWarning: [22:44:04] WARNING: C:\\actions-runner\\_work\\xgboost\\xgboost\\src\\learner.cc:738: \n",
      "Parameters: { \"use_label_encoder\" } are not used.\n",
      "\n",
      "  bst.update(dtrain, iteration=i, fobj=obj)\n",
      "d:\\hospital\\venv\\Lib\\site-packages\\xgboost\\training.py:183: UserWarning: [22:44:05] WARNING: C:\\actions-runner\\_work\\xgboost\\xgboost\\src\\learner.cc:738: \n",
      "Parameters: { \"use_label_encoder\" } are not used.\n",
      "\n",
      "  bst.update(dtrain, iteration=i, fobj=obj)\n"
     ]
    },
    {
     "name": "stdout",
     "output_type": "stream",
     "text": [
      "[CV] END final_estimator__C=0.13476065265595352, rf__max_depth=10, rf__max_features=sqrt, rf__n_estimators=161, xgb__colsample_bytree=0.6888431241882921, xgb__gamma=0.1198653673336828, xgb__learning_rate=0.0437615171403628, xgb__max_depth=5, xgb__n_estimators=158, xgb__subsample=0.7292811728083021; total time=  42.3s\n"
     ]
    },
    {
     "name": "stderr",
     "output_type": "stream",
     "text": [
      "d:\\hospital\\venv\\Lib\\site-packages\\xgboost\\training.py:183: UserWarning: [22:44:35] WARNING: C:\\actions-runner\\_work\\xgboost\\xgboost\\src\\learner.cc:738: \n",
      "Parameters: { \"use_label_encoder\" } are not used.\n",
      "\n",
      "  bst.update(dtrain, iteration=i, fobj=obj)\n",
      "d:\\hospital\\venv\\Lib\\site-packages\\xgboost\\training.py:183: UserWarning: [22:44:44] WARNING: C:\\actions-runner\\_work\\xgboost\\xgboost\\src\\learner.cc:738: \n",
      "Parameters: { \"use_label_encoder\" } are not used.\n",
      "\n",
      "  bst.update(dtrain, iteration=i, fobj=obj)\n",
      "d:\\hospital\\venv\\Lib\\site-packages\\xgboost\\training.py:183: UserWarning: [22:44:45] WARNING: C:\\actions-runner\\_work\\xgboost\\xgboost\\src\\learner.cc:738: \n",
      "Parameters: { \"use_label_encoder\" } are not used.\n",
      "\n",
      "  bst.update(dtrain, iteration=i, fobj=obj)\n",
      "d:\\hospital\\venv\\Lib\\site-packages\\xgboost\\training.py:183: UserWarning: [22:44:46] WARNING: C:\\actions-runner\\_work\\xgboost\\xgboost\\src\\learner.cc:738: \n",
      "Parameters: { \"use_label_encoder\" } are not used.\n",
      "\n",
      "  bst.update(dtrain, iteration=i, fobj=obj)\n",
      "d:\\hospital\\venv\\Lib\\site-packages\\xgboost\\training.py:183: UserWarning: [22:44:47] WARNING: C:\\actions-runner\\_work\\xgboost\\xgboost\\src\\learner.cc:738: \n",
      "Parameters: { \"use_label_encoder\" } are not used.\n",
      "\n",
      "  bst.update(dtrain, iteration=i, fobj=obj)\n",
      "d:\\hospital\\venv\\Lib\\site-packages\\xgboost\\training.py:183: UserWarning: [22:44:47] WARNING: C:\\actions-runner\\_work\\xgboost\\xgboost\\src\\learner.cc:738: \n",
      "Parameters: { \"use_label_encoder\" } are not used.\n",
      "\n",
      "  bst.update(dtrain, iteration=i, fobj=obj)\n"
     ]
    },
    {
     "name": "stdout",
     "output_type": "stream",
     "text": [
      "[CV] END final_estimator__C=0.13476065265595352, rf__max_depth=10, rf__max_features=sqrt, rf__n_estimators=161, xgb__colsample_bytree=0.6888431241882921, xgb__gamma=0.1198653673336828, xgb__learning_rate=0.0437615171403628, xgb__max_depth=5, xgb__n_estimators=158, xgb__subsample=0.7292811728083021; total time=  36.5s\n"
     ]
    },
    {
     "name": "stderr",
     "output_type": "stream",
     "text": [
      "d:\\hospital\\venv\\Lib\\site-packages\\xgboost\\training.py:183: UserWarning: [22:45:12] WARNING: C:\\actions-runner\\_work\\xgboost\\xgboost\\src\\learner.cc:738: \n",
      "Parameters: { \"use_label_encoder\" } are not used.\n",
      "\n",
      "  bst.update(dtrain, iteration=i, fobj=obj)\n",
      "d:\\hospital\\venv\\Lib\\site-packages\\xgboost\\training.py:183: UserWarning: [22:45:20] WARNING: C:\\actions-runner\\_work\\xgboost\\xgboost\\src\\learner.cc:738: \n",
      "Parameters: { \"use_label_encoder\" } are not used.\n",
      "\n",
      "  bst.update(dtrain, iteration=i, fobj=obj)\n",
      "d:\\hospital\\venv\\Lib\\site-packages\\xgboost\\training.py:183: UserWarning: [22:45:21] WARNING: C:\\actions-runner\\_work\\xgboost\\xgboost\\src\\learner.cc:738: \n",
      "Parameters: { \"use_label_encoder\" } are not used.\n",
      "\n",
      "  bst.update(dtrain, iteration=i, fobj=obj)\n",
      "d:\\hospital\\venv\\Lib\\site-packages\\xgboost\\training.py:183: UserWarning: [22:45:22] WARNING: C:\\actions-runner\\_work\\xgboost\\xgboost\\src\\learner.cc:738: \n",
      "Parameters: { \"use_label_encoder\" } are not used.\n",
      "\n",
      "  bst.update(dtrain, iteration=i, fobj=obj)\n",
      "d:\\hospital\\venv\\Lib\\site-packages\\xgboost\\training.py:183: UserWarning: [22:45:23] WARNING: C:\\actions-runner\\_work\\xgboost\\xgboost\\src\\learner.cc:738: \n",
      "Parameters: { \"use_label_encoder\" } are not used.\n",
      "\n",
      "  bst.update(dtrain, iteration=i, fobj=obj)\n",
      "d:\\hospital\\venv\\Lib\\site-packages\\xgboost\\training.py:183: UserWarning: [22:45:23] WARNING: C:\\actions-runner\\_work\\xgboost\\xgboost\\src\\learner.cc:738: \n",
      "Parameters: { \"use_label_encoder\" } are not used.\n",
      "\n",
      "  bst.update(dtrain, iteration=i, fobj=obj)\n"
     ]
    },
    {
     "name": "stdout",
     "output_type": "stream",
     "text": [
      "[CV] END final_estimator__C=0.13476065265595352, rf__max_depth=10, rf__max_features=sqrt, rf__n_estimators=161, xgb__colsample_bytree=0.6888431241882921, xgb__gamma=0.1198653673336828, xgb__learning_rate=0.0437615171403628, xgb__max_depth=5, xgb__n_estimators=158, xgb__subsample=0.7292811728083021; total time=  43.9s\n"
     ]
    },
    {
     "name": "stderr",
     "output_type": "stream",
     "text": [
      "d:\\hospital\\venv\\Lib\\site-packages\\xgboost\\training.py:183: UserWarning: [22:45:56] WARNING: C:\\actions-runner\\_work\\xgboost\\xgboost\\src\\learner.cc:738: \n",
      "Parameters: { \"use_label_encoder\" } are not used.\n",
      "\n",
      "  bst.update(dtrain, iteration=i, fobj=obj)\n",
      "d:\\hospital\\venv\\Lib\\site-packages\\xgboost\\training.py:183: UserWarning: [22:46:16] WARNING: C:\\actions-runner\\_work\\xgboost\\xgboost\\src\\learner.cc:738: \n",
      "Parameters: { \"use_label_encoder\" } are not used.\n",
      "\n",
      "  bst.update(dtrain, iteration=i, fobj=obj)\n",
      "d:\\hospital\\venv\\Lib\\site-packages\\xgboost\\training.py:183: UserWarning: [22:46:17] WARNING: C:\\actions-runner\\_work\\xgboost\\xgboost\\src\\learner.cc:738: \n",
      "Parameters: { \"use_label_encoder\" } are not used.\n",
      "\n",
      "  bst.update(dtrain, iteration=i, fobj=obj)\n",
      "d:\\hospital\\venv\\Lib\\site-packages\\xgboost\\training.py:183: UserWarning: [22:46:17] WARNING: C:\\actions-runner\\_work\\xgboost\\xgboost\\src\\learner.cc:738: \n",
      "Parameters: { \"use_label_encoder\" } are not used.\n",
      "\n",
      "  bst.update(dtrain, iteration=i, fobj=obj)\n",
      "d:\\hospital\\venv\\Lib\\site-packages\\xgboost\\training.py:183: UserWarning: [22:46:18] WARNING: C:\\actions-runner\\_work\\xgboost\\xgboost\\src\\learner.cc:738: \n",
      "Parameters: { \"use_label_encoder\" } are not used.\n",
      "\n",
      "  bst.update(dtrain, iteration=i, fobj=obj)\n",
      "d:\\hospital\\venv\\Lib\\site-packages\\xgboost\\training.py:183: UserWarning: [22:46:18] WARNING: C:\\actions-runner\\_work\\xgboost\\xgboost\\src\\learner.cc:738: \n",
      "Parameters: { \"use_label_encoder\" } are not used.\n",
      "\n",
      "  bst.update(dtrain, iteration=i, fobj=obj)\n"
     ]
    },
    {
     "name": "stdout",
     "output_type": "stream",
     "text": [
      "[CV] END final_estimator__C=2.6939531087168307, rf__max_depth=None, rf__max_features=log2, rf__n_estimators=161, xgb__colsample_bytree=0.9887128330883843, xgb__gamma=0.9624472949421112, xgb__learning_rate=0.03517822958253642, xgb__max_depth=4, xgb__n_estimators=102, xgb__subsample=0.7203513239267079; total time= 1.6min\n"
     ]
    },
    {
     "name": "stderr",
     "output_type": "stream",
     "text": [
      "d:\\hospital\\venv\\Lib\\site-packages\\xgboost\\training.py:183: UserWarning: [22:47:32] WARNING: C:\\actions-runner\\_work\\xgboost\\xgboost\\src\\learner.cc:738: \n",
      "Parameters: { \"use_label_encoder\" } are not used.\n",
      "\n",
      "  bst.update(dtrain, iteration=i, fobj=obj)\n",
      "d:\\hospital\\venv\\Lib\\site-packages\\xgboost\\training.py:183: UserWarning: [22:47:50] WARNING: C:\\actions-runner\\_work\\xgboost\\xgboost\\src\\learner.cc:738: \n",
      "Parameters: { \"use_label_encoder\" } are not used.\n",
      "\n",
      "  bst.update(dtrain, iteration=i, fobj=obj)\n",
      "d:\\hospital\\venv\\Lib\\site-packages\\xgboost\\training.py:183: UserWarning: [22:47:50] WARNING: C:\\actions-runner\\_work\\xgboost\\xgboost\\src\\learner.cc:738: \n",
      "Parameters: { \"use_label_encoder\" } are not used.\n",
      "\n",
      "  bst.update(dtrain, iteration=i, fobj=obj)\n",
      "d:\\hospital\\venv\\Lib\\site-packages\\xgboost\\training.py:183: UserWarning: [22:47:51] WARNING: C:\\actions-runner\\_work\\xgboost\\xgboost\\src\\learner.cc:738: \n",
      "Parameters: { \"use_label_encoder\" } are not used.\n",
      "\n",
      "  bst.update(dtrain, iteration=i, fobj=obj)\n",
      "d:\\hospital\\venv\\Lib\\site-packages\\xgboost\\training.py:183: UserWarning: [22:47:51] WARNING: C:\\actions-runner\\_work\\xgboost\\xgboost\\src\\learner.cc:738: \n",
      "Parameters: { \"use_label_encoder\" } are not used.\n",
      "\n",
      "  bst.update(dtrain, iteration=i, fobj=obj)\n",
      "d:\\hospital\\venv\\Lib\\site-packages\\xgboost\\training.py:183: UserWarning: [22:47:52] WARNING: C:\\actions-runner\\_work\\xgboost\\xgboost\\src\\learner.cc:738: \n",
      "Parameters: { \"use_label_encoder\" } are not used.\n",
      "\n",
      "  bst.update(dtrain, iteration=i, fobj=obj)\n"
     ]
    },
    {
     "name": "stdout",
     "output_type": "stream",
     "text": [
      "[CV] END final_estimator__C=2.6939531087168307, rf__max_depth=None, rf__max_features=log2, rf__n_estimators=161, xgb__colsample_bytree=0.9887128330883843, xgb__gamma=0.9624472949421112, xgb__learning_rate=0.03517822958253642, xgb__max_depth=4, xgb__n_estimators=102, xgb__subsample=0.7203513239267079; total time= 1.5min\n"
     ]
    },
    {
     "name": "stderr",
     "output_type": "stream",
     "text": [
      "d:\\hospital\\venv\\Lib\\site-packages\\xgboost\\training.py:183: UserWarning: [22:49:01] WARNING: C:\\actions-runner\\_work\\xgboost\\xgboost\\src\\learner.cc:738: \n",
      "Parameters: { \"use_label_encoder\" } are not used.\n",
      "\n",
      "  bst.update(dtrain, iteration=i, fobj=obj)\n",
      "d:\\hospital\\venv\\Lib\\site-packages\\xgboost\\training.py:183: UserWarning: [22:49:18] WARNING: C:\\actions-runner\\_work\\xgboost\\xgboost\\src\\learner.cc:738: \n",
      "Parameters: { \"use_label_encoder\" } are not used.\n",
      "\n",
      "  bst.update(dtrain, iteration=i, fobj=obj)\n",
      "d:\\hospital\\venv\\Lib\\site-packages\\xgboost\\training.py:183: UserWarning: [22:49:19] WARNING: C:\\actions-runner\\_work\\xgboost\\xgboost\\src\\learner.cc:738: \n",
      "Parameters: { \"use_label_encoder\" } are not used.\n",
      "\n",
      "  bst.update(dtrain, iteration=i, fobj=obj)\n",
      "d:\\hospital\\venv\\Lib\\site-packages\\xgboost\\training.py:183: UserWarning: [22:49:19] WARNING: C:\\actions-runner\\_work\\xgboost\\xgboost\\src\\learner.cc:738: \n",
      "Parameters: { \"use_label_encoder\" } are not used.\n",
      "\n",
      "  bst.update(dtrain, iteration=i, fobj=obj)\n",
      "d:\\hospital\\venv\\Lib\\site-packages\\xgboost\\training.py:183: UserWarning: [22:49:20] WARNING: C:\\actions-runner\\_work\\xgboost\\xgboost\\src\\learner.cc:738: \n",
      "Parameters: { \"use_label_encoder\" } are not used.\n",
      "\n",
      "  bst.update(dtrain, iteration=i, fobj=obj)\n",
      "d:\\hospital\\venv\\Lib\\site-packages\\xgboost\\training.py:183: UserWarning: [22:49:20] WARNING: C:\\actions-runner\\_work\\xgboost\\xgboost\\src\\learner.cc:738: \n",
      "Parameters: { \"use_label_encoder\" } are not used.\n",
      "\n",
      "  bst.update(dtrain, iteration=i, fobj=obj)\n"
     ]
    },
    {
     "name": "stdout",
     "output_type": "stream",
     "text": [
      "[CV] END final_estimator__C=2.6939531087168307, rf__max_depth=None, rf__max_features=log2, rf__n_estimators=161, xgb__colsample_bytree=0.9887128330883843, xgb__gamma=0.9624472949421112, xgb__learning_rate=0.03517822958253642, xgb__max_depth=4, xgb__n_estimators=102, xgb__subsample=0.7203513239267079; total time= 1.5min\n"
     ]
    },
    {
     "name": "stderr",
     "output_type": "stream",
     "text": [
      "d:\\hospital\\venv\\Lib\\site-packages\\xgboost\\training.py:183: UserWarning: [22:50:29] WARNING: C:\\actions-runner\\_work\\xgboost\\xgboost\\src\\learner.cc:738: \n",
      "Parameters: { \"use_label_encoder\" } are not used.\n",
      "\n",
      "  bst.update(dtrain, iteration=i, fobj=obj)\n",
      "d:\\hospital\\venv\\Lib\\site-packages\\xgboost\\training.py:183: UserWarning: [22:50:40] WARNING: C:\\actions-runner\\_work\\xgboost\\xgboost\\src\\learner.cc:738: \n",
      "Parameters: { \"use_label_encoder\" } are not used.\n",
      "\n",
      "  bst.update(dtrain, iteration=i, fobj=obj)\n",
      "d:\\hospital\\venv\\Lib\\site-packages\\xgboost\\training.py:183: UserWarning: [22:50:41] WARNING: C:\\actions-runner\\_work\\xgboost\\xgboost\\src\\learner.cc:738: \n",
      "Parameters: { \"use_label_encoder\" } are not used.\n",
      "\n",
      "  bst.update(dtrain, iteration=i, fobj=obj)\n",
      "d:\\hospital\\venv\\Lib\\site-packages\\xgboost\\training.py:183: UserWarning: [22:50:41] WARNING: C:\\actions-runner\\_work\\xgboost\\xgboost\\src\\learner.cc:738: \n",
      "Parameters: { \"use_label_encoder\" } are not used.\n",
      "\n",
      "  bst.update(dtrain, iteration=i, fobj=obj)\n",
      "d:\\hospital\\venv\\Lib\\site-packages\\xgboost\\training.py:183: UserWarning: [22:50:41] WARNING: C:\\actions-runner\\_work\\xgboost\\xgboost\\src\\learner.cc:738: \n",
      "Parameters: { \"use_label_encoder\" } are not used.\n",
      "\n",
      "  bst.update(dtrain, iteration=i, fobj=obj)\n",
      "d:\\hospital\\venv\\Lib\\site-packages\\xgboost\\training.py:183: UserWarning: [22:50:42] WARNING: C:\\actions-runner\\_work\\xgboost\\xgboost\\src\\learner.cc:738: \n",
      "Parameters: { \"use_label_encoder\" } are not used.\n",
      "\n",
      "  bst.update(dtrain, iteration=i, fobj=obj)\n"
     ]
    },
    {
     "name": "stdout",
     "output_type": "stream",
     "text": [
      "[CV] END final_estimator__C=1.5242024718873382, rf__max_depth=None, rf__max_features=sqrt, rf__n_estimators=101, xgb__colsample_bytree=0.8010716092915446, xgb__gamma=0.05147875124998935, xgb__learning_rate=0.03786464642366114, xgb__max_depth=3, xgb__n_estimators=100, xgb__subsample=0.695824756266789; total time=  56.2s\n"
     ]
    },
    {
     "name": "stderr",
     "output_type": "stream",
     "text": [
      "d:\\hospital\\venv\\Lib\\site-packages\\xgboost\\training.py:183: UserWarning: [22:51:25] WARNING: C:\\actions-runner\\_work\\xgboost\\xgboost\\src\\learner.cc:738: \n",
      "Parameters: { \"use_label_encoder\" } are not used.\n",
      "\n",
      "  bst.update(dtrain, iteration=i, fobj=obj)\n",
      "d:\\hospital\\venv\\Lib\\site-packages\\xgboost\\training.py:183: UserWarning: [22:51:36] WARNING: C:\\actions-runner\\_work\\xgboost\\xgboost\\src\\learner.cc:738: \n",
      "Parameters: { \"use_label_encoder\" } are not used.\n",
      "\n",
      "  bst.update(dtrain, iteration=i, fobj=obj)\n",
      "d:\\hospital\\venv\\Lib\\site-packages\\xgboost\\training.py:183: UserWarning: [22:51:37] WARNING: C:\\actions-runner\\_work\\xgboost\\xgboost\\src\\learner.cc:738: \n",
      "Parameters: { \"use_label_encoder\" } are not used.\n",
      "\n",
      "  bst.update(dtrain, iteration=i, fobj=obj)\n",
      "d:\\hospital\\venv\\Lib\\site-packages\\xgboost\\training.py:183: UserWarning: [22:51:37] WARNING: C:\\actions-runner\\_work\\xgboost\\xgboost\\src\\learner.cc:738: \n",
      "Parameters: { \"use_label_encoder\" } are not used.\n",
      "\n",
      "  bst.update(dtrain, iteration=i, fobj=obj)\n",
      "d:\\hospital\\venv\\Lib\\site-packages\\xgboost\\training.py:183: UserWarning: [22:51:37] WARNING: C:\\actions-runner\\_work\\xgboost\\xgboost\\src\\learner.cc:738: \n",
      "Parameters: { \"use_label_encoder\" } are not used.\n",
      "\n",
      "  bst.update(dtrain, iteration=i, fobj=obj)\n",
      "d:\\hospital\\venv\\Lib\\site-packages\\xgboost\\training.py:183: UserWarning: [22:51:38] WARNING: C:\\actions-runner\\_work\\xgboost\\xgboost\\src\\learner.cc:738: \n",
      "Parameters: { \"use_label_encoder\" } are not used.\n",
      "\n",
      "  bst.update(dtrain, iteration=i, fobj=obj)\n"
     ]
    },
    {
     "name": "stdout",
     "output_type": "stream",
     "text": [
      "[CV] END final_estimator__C=1.5242024718873382, rf__max_depth=None, rf__max_features=sqrt, rf__n_estimators=101, xgb__colsample_bytree=0.8010716092915446, xgb__gamma=0.05147875124998935, xgb__learning_rate=0.03786464642366114, xgb__max_depth=3, xgb__n_estimators=100, xgb__subsample=0.695824756266789; total time=  56.7s\n"
     ]
    },
    {
     "name": "stderr",
     "output_type": "stream",
     "text": [
      "d:\\hospital\\venv\\Lib\\site-packages\\xgboost\\training.py:183: UserWarning: [22:52:22] WARNING: C:\\actions-runner\\_work\\xgboost\\xgboost\\src\\learner.cc:738: \n",
      "Parameters: { \"use_label_encoder\" } are not used.\n",
      "\n",
      "  bst.update(dtrain, iteration=i, fobj=obj)\n",
      "d:\\hospital\\venv\\Lib\\site-packages\\xgboost\\training.py:183: UserWarning: [22:52:33] WARNING: C:\\actions-runner\\_work\\xgboost\\xgboost\\src\\learner.cc:738: \n",
      "Parameters: { \"use_label_encoder\" } are not used.\n",
      "\n",
      "  bst.update(dtrain, iteration=i, fobj=obj)\n",
      "d:\\hospital\\venv\\Lib\\site-packages\\xgboost\\training.py:183: UserWarning: [22:52:34] WARNING: C:\\actions-runner\\_work\\xgboost\\xgboost\\src\\learner.cc:738: \n",
      "Parameters: { \"use_label_encoder\" } are not used.\n",
      "\n",
      "  bst.update(dtrain, iteration=i, fobj=obj)\n",
      "d:\\hospital\\venv\\Lib\\site-packages\\xgboost\\training.py:183: UserWarning: [22:52:34] WARNING: C:\\actions-runner\\_work\\xgboost\\xgboost\\src\\learner.cc:738: \n",
      "Parameters: { \"use_label_encoder\" } are not used.\n",
      "\n",
      "  bst.update(dtrain, iteration=i, fobj=obj)\n",
      "d:\\hospital\\venv\\Lib\\site-packages\\xgboost\\training.py:183: UserWarning: [22:52:34] WARNING: C:\\actions-runner\\_work\\xgboost\\xgboost\\src\\learner.cc:738: \n",
      "Parameters: { \"use_label_encoder\" } are not used.\n",
      "\n",
      "  bst.update(dtrain, iteration=i, fobj=obj)\n",
      "d:\\hospital\\venv\\Lib\\site-packages\\xgboost\\training.py:183: UserWarning: [22:52:35] WARNING: C:\\actions-runner\\_work\\xgboost\\xgboost\\src\\learner.cc:738: \n",
      "Parameters: { \"use_label_encoder\" } are not used.\n",
      "\n",
      "  bst.update(dtrain, iteration=i, fobj=obj)\n"
     ]
    },
    {
     "name": "stdout",
     "output_type": "stream",
     "text": [
      "[CV] END final_estimator__C=1.5242024718873382, rf__max_depth=None, rf__max_features=sqrt, rf__n_estimators=101, xgb__colsample_bytree=0.8010716092915446, xgb__gamma=0.05147875124998935, xgb__learning_rate=0.03786464642366114, xgb__max_depth=3, xgb__n_estimators=100, xgb__subsample=0.695824756266789; total time=  56.5s\n"
     ]
    },
    {
     "name": "stderr",
     "output_type": "stream",
     "text": [
      "d:\\hospital\\venv\\Lib\\site-packages\\xgboost\\training.py:183: UserWarning: [22:53:19] WARNING: C:\\actions-runner\\_work\\xgboost\\xgboost\\src\\learner.cc:738: \n",
      "Parameters: { \"use_label_encoder\" } are not used.\n",
      "\n",
      "  bst.update(dtrain, iteration=i, fobj=obj)\n",
      "d:\\hospital\\venv\\Lib\\site-packages\\xgboost\\training.py:183: UserWarning: [22:53:21] WARNING: C:\\actions-runner\\_work\\xgboost\\xgboost\\src\\learner.cc:738: \n",
      "Parameters: { \"use_label_encoder\" } are not used.\n",
      "\n",
      "  bst.update(dtrain, iteration=i, fobj=obj)\n",
      "d:\\hospital\\venv\\Lib\\site-packages\\xgboost\\training.py:183: UserWarning: [22:53:21] WARNING: C:\\actions-runner\\_work\\xgboost\\xgboost\\src\\learner.cc:738: \n",
      "Parameters: { \"use_label_encoder\" } are not used.\n",
      "\n",
      "  bst.update(dtrain, iteration=i, fobj=obj)\n",
      "d:\\hospital\\venv\\Lib\\site-packages\\xgboost\\training.py:183: UserWarning: [22:53:22] WARNING: C:\\actions-runner\\_work\\xgboost\\xgboost\\src\\learner.cc:738: \n",
      "Parameters: { \"use_label_encoder\" } are not used.\n",
      "\n",
      "  bst.update(dtrain, iteration=i, fobj=obj)\n",
      "d:\\hospital\\venv\\Lib\\site-packages\\xgboost\\training.py:183: UserWarning: [22:53:22] WARNING: C:\\actions-runner\\_work\\xgboost\\xgboost\\src\\learner.cc:738: \n",
      "Parameters: { \"use_label_encoder\" } are not used.\n",
      "\n",
      "  bst.update(dtrain, iteration=i, fobj=obj)\n",
      "d:\\hospital\\venv\\Lib\\site-packages\\xgboost\\training.py:183: UserWarning: [22:53:23] WARNING: C:\\actions-runner\\_work\\xgboost\\xgboost\\src\\learner.cc:738: \n",
      "Parameters: { \"use_label_encoder\" } are not used.\n",
      "\n",
      "  bst.update(dtrain, iteration=i, fobj=obj)\n"
     ]
    },
    {
     "name": "stdout",
     "output_type": "stream",
     "text": [
      "[CV] END final_estimator__C=0.8244743604561154, rf__max_depth=5, rf__max_features=log2, rf__n_estimators=169, xgb__colsample_bytree=0.6968221086046001, xgb__gamma=0.6721355474058786, xgb__learning_rate=0.08616196153287176, xgb__max_depth=5, xgb__n_estimators=116, xgb__subsample=0.8912865394447438; total time=  11.2s\n"
     ]
    },
    {
     "name": "stderr",
     "output_type": "stream",
     "text": [
      "d:\\hospital\\venv\\Lib\\site-packages\\xgboost\\training.py:183: UserWarning: [22:53:30] WARNING: C:\\actions-runner\\_work\\xgboost\\xgboost\\src\\learner.cc:738: \n",
      "Parameters: { \"use_label_encoder\" } are not used.\n",
      "\n",
      "  bst.update(dtrain, iteration=i, fobj=obj)\n",
      "d:\\hospital\\venv\\Lib\\site-packages\\xgboost\\training.py:183: UserWarning: [22:53:32] WARNING: C:\\actions-runner\\_work\\xgboost\\xgboost\\src\\learner.cc:738: \n",
      "Parameters: { \"use_label_encoder\" } are not used.\n",
      "\n",
      "  bst.update(dtrain, iteration=i, fobj=obj)\n",
      "d:\\hospital\\venv\\Lib\\site-packages\\xgboost\\training.py:183: UserWarning: [22:53:33] WARNING: C:\\actions-runner\\_work\\xgboost\\xgboost\\src\\learner.cc:738: \n",
      "Parameters: { \"use_label_encoder\" } are not used.\n",
      "\n",
      "  bst.update(dtrain, iteration=i, fobj=obj)\n",
      "d:\\hospital\\venv\\Lib\\site-packages\\xgboost\\training.py:183: UserWarning: [22:53:33] WARNING: C:\\actions-runner\\_work\\xgboost\\xgboost\\src\\learner.cc:738: \n",
      "Parameters: { \"use_label_encoder\" } are not used.\n",
      "\n",
      "  bst.update(dtrain, iteration=i, fobj=obj)\n",
      "d:\\hospital\\venv\\Lib\\site-packages\\xgboost\\training.py:183: UserWarning: [22:53:33] WARNING: C:\\actions-runner\\_work\\xgboost\\xgboost\\src\\learner.cc:738: \n",
      "Parameters: { \"use_label_encoder\" } are not used.\n",
      "\n",
      "  bst.update(dtrain, iteration=i, fobj=obj)\n",
      "d:\\hospital\\venv\\Lib\\site-packages\\xgboost\\training.py:183: UserWarning: [22:53:34] WARNING: C:\\actions-runner\\_work\\xgboost\\xgboost\\src\\learner.cc:738: \n",
      "Parameters: { \"use_label_encoder\" } are not used.\n",
      "\n",
      "  bst.update(dtrain, iteration=i, fobj=obj)\n"
     ]
    },
    {
     "name": "stdout",
     "output_type": "stream",
     "text": [
      "[CV] END final_estimator__C=0.8244743604561154, rf__max_depth=5, rf__max_features=log2, rf__n_estimators=169, xgb__colsample_bytree=0.6968221086046001, xgb__gamma=0.6721355474058786, xgb__learning_rate=0.08616196153287176, xgb__max_depth=5, xgb__n_estimators=116, xgb__subsample=0.8912865394447438; total time=  11.1s\n"
     ]
    },
    {
     "name": "stderr",
     "output_type": "stream",
     "text": [
      "d:\\hospital\\venv\\Lib\\site-packages\\xgboost\\training.py:183: UserWarning: [22:53:41] WARNING: C:\\actions-runner\\_work\\xgboost\\xgboost\\src\\learner.cc:738: \n",
      "Parameters: { \"use_label_encoder\" } are not used.\n",
      "\n",
      "  bst.update(dtrain, iteration=i, fobj=obj)\n",
      "d:\\hospital\\venv\\Lib\\site-packages\\xgboost\\training.py:183: UserWarning: [22:53:43] WARNING: C:\\actions-runner\\_work\\xgboost\\xgboost\\src\\learner.cc:738: \n",
      "Parameters: { \"use_label_encoder\" } are not used.\n",
      "\n",
      "  bst.update(dtrain, iteration=i, fobj=obj)\n",
      "d:\\hospital\\venv\\Lib\\site-packages\\xgboost\\training.py:183: UserWarning: [22:53:44] WARNING: C:\\actions-runner\\_work\\xgboost\\xgboost\\src\\learner.cc:738: \n",
      "Parameters: { \"use_label_encoder\" } are not used.\n",
      "\n",
      "  bst.update(dtrain, iteration=i, fobj=obj)\n",
      "d:\\hospital\\venv\\Lib\\site-packages\\xgboost\\training.py:183: UserWarning: [22:53:44] WARNING: C:\\actions-runner\\_work\\xgboost\\xgboost\\src\\learner.cc:738: \n",
      "Parameters: { \"use_label_encoder\" } are not used.\n",
      "\n",
      "  bst.update(dtrain, iteration=i, fobj=obj)\n",
      "d:\\hospital\\venv\\Lib\\site-packages\\xgboost\\training.py:183: UserWarning: [22:53:45] WARNING: C:\\actions-runner\\_work\\xgboost\\xgboost\\src\\learner.cc:738: \n",
      "Parameters: { \"use_label_encoder\" } are not used.\n",
      "\n",
      "  bst.update(dtrain, iteration=i, fobj=obj)\n",
      "d:\\hospital\\venv\\Lib\\site-packages\\xgboost\\training.py:183: UserWarning: [22:53:45] WARNING: C:\\actions-runner\\_work\\xgboost\\xgboost\\src\\learner.cc:738: \n",
      "Parameters: { \"use_label_encoder\" } are not used.\n",
      "\n",
      "  bst.update(dtrain, iteration=i, fobj=obj)\n"
     ]
    },
    {
     "name": "stdout",
     "output_type": "stream",
     "text": [
      "[CV] END final_estimator__C=0.8244743604561154, rf__max_depth=5, rf__max_features=log2, rf__n_estimators=169, xgb__colsample_bytree=0.6968221086046001, xgb__gamma=0.6721355474058786, xgb__learning_rate=0.08616196153287176, xgb__max_depth=5, xgb__n_estimators=116, xgb__subsample=0.8912865394447438; total time=  11.3s\n"
     ]
    },
    {
     "name": "stderr",
     "output_type": "stream",
     "text": [
      "d:\\hospital\\venv\\Lib\\site-packages\\xgboost\\training.py:183: UserWarning: [22:53:53] WARNING: C:\\actions-runner\\_work\\xgboost\\xgboost\\src\\learner.cc:738: \n",
      "Parameters: { \"use_label_encoder\" } are not used.\n",
      "\n",
      "  bst.update(dtrain, iteration=i, fobj=obj)\n",
      "d:\\hospital\\venv\\Lib\\site-packages\\xgboost\\training.py:183: UserWarning: [22:53:59] WARNING: C:\\actions-runner\\_work\\xgboost\\xgboost\\src\\learner.cc:738: \n",
      "Parameters: { \"use_label_encoder\" } are not used.\n",
      "\n",
      "  bst.update(dtrain, iteration=i, fobj=obj)\n",
      "d:\\hospital\\venv\\Lib\\site-packages\\xgboost\\training.py:183: UserWarning: [22:54:00] WARNING: C:\\actions-runner\\_work\\xgboost\\xgboost\\src\\learner.cc:738: \n",
      "Parameters: { \"use_label_encoder\" } are not used.\n",
      "\n",
      "  bst.update(dtrain, iteration=i, fobj=obj)\n",
      "d:\\hospital\\venv\\Lib\\site-packages\\xgboost\\training.py:183: UserWarning: [22:54:01] WARNING: C:\\actions-runner\\_work\\xgboost\\xgboost\\src\\learner.cc:738: \n",
      "Parameters: { \"use_label_encoder\" } are not used.\n",
      "\n",
      "  bst.update(dtrain, iteration=i, fobj=obj)\n",
      "d:\\hospital\\venv\\Lib\\site-packages\\xgboost\\training.py:183: UserWarning: [22:54:02] WARNING: C:\\actions-runner\\_work\\xgboost\\xgboost\\src\\learner.cc:738: \n",
      "Parameters: { \"use_label_encoder\" } are not used.\n",
      "\n",
      "  bst.update(dtrain, iteration=i, fobj=obj)\n",
      "d:\\hospital\\venv\\Lib\\site-packages\\xgboost\\training.py:183: UserWarning: [22:54:03] WARNING: C:\\actions-runner\\_work\\xgboost\\xgboost\\src\\learner.cc:738: \n",
      "Parameters: { \"use_label_encoder\" } are not used.\n",
      "\n",
      "  bst.update(dtrain, iteration=i, fobj=obj)\n"
     ]
    },
    {
     "name": "stdout",
     "output_type": "stream",
     "text": [
      "✅ Tuned Stacked AUC: 0.6691485655990823\n"
     ]
    }
   ],
   "source": [
    "# Step 1: Clean column names (if not already done)\n",
    "X_train.columns = [col.replace('[', '_').replace(']', '_').replace('<', '_') for col in X_train.columns]\n",
    "X_valid.columns = [col.replace('[', '_').replace(']', '_').replace('<', '_') for col in X_valid.columns]\n",
    "\n",
    "# Step 2: Import required modules\n",
    "from sklearn.model_selection import RandomizedSearchCV\n",
    "from sklearn.ensemble import StackingClassifier, RandomForestClassifier\n",
    "from sklearn.linear_model import LogisticRegression\n",
    "from sklearn.metrics import roc_auc_score\n",
    "from scipy.stats import randint, uniform\n",
    "import xgboost as xgb\n",
    "\n",
    "# Step 3: Define base learners\n",
    "estimators = [\n",
    "    ('xgb', xgb.XGBClassifier(use_label_encoder=False, eval_metric='logloss', random_state=42)),\n",
    "    ('rf', RandomForestClassifier(random_state=42))\n",
    "]\n",
    "\n",
    "# Step 4: Build stacking model\n",
    "stack = StackingClassifier(\n",
    "    estimators=estimators,\n",
    "    final_estimator=LogisticRegression(max_iter=1000),\n",
    "    cv=5,\n",
    "    n_jobs=1  # Only 1 thread to avoid memory error\n",
    ")\n",
    "\n",
    "# Step 5: Define parameter search space\n",
    "param_dist = {\n",
    "    'xgb__max_depth': randint(3, 7),\n",
    "    'xgb__learning_rate': uniform(0.01, 0.1),\n",
    "    'xgb__n_estimators': randint(100, 200),\n",
    "    'xgb__subsample': uniform(0.6, 0.4),\n",
    "    'xgb__colsample_bytree': uniform(0.6, 0.4),\n",
    "    'xgb__gamma': uniform(0, 1),\n",
    "\n",
    "    'rf__n_estimators': randint(100, 200),\n",
    "    'rf__max_depth': [None, 5, 10],\n",
    "    'rf__max_features': ['sqrt', 'log2'],\n",
    "\n",
    "    'final_estimator__C': uniform(0.1, 5.0)\n",
    "}\n",
    "\n",
    "# Step 6: Run randomized search (memory-safe version)\n",
    "random_search = RandomizedSearchCV(\n",
    "    estimator=stack,\n",
    "    param_distributions=param_dist,\n",
    "    n_iter=20,              # Reduced from 50 for speed & memory\n",
    "    scoring='roc_auc',\n",
    "    cv=3,                   # Reduced CV folds for speed\n",
    "    verbose=2,\n",
    "    n_jobs=1,               # ✅ This prevents memory crash\n",
    "    random_state=42\n",
    ")\n",
    "\n",
    "# Step 7: Fit the model\n",
    "random_search.fit(X_train, y_train)\n",
    "\n",
    "# Step 8: Evaluate on validation set\n",
    "best_model = random_search.best_estimator_\n",
    "y_pred_proba = best_model.predict_proba(X_valid)[:, 1]\n",
    "auc = roc_auc_score(y_valid, y_pred_proba)\n",
    "\n",
    "print(\"✅ Tuned Stacked AUC:\", auc)\n"
   ]
  },
  {
   "cell_type": "code",
   "execution_count": null,
   "id": "dc03809d",
   "metadata": {},
   "outputs": [],
   "source": [
    "mod_params = {\n",
    "    'rf': {\n",
    "        'model': RandomForestClassifier(),\n",
    "        'params': {\n",
    "            'n_estimators': [50, 100, 200],\n",
    "            'max_features': ['auto', 'sqrt'],\n",
    "            'max_depth': [10, 30, 50],\n",
    "            'min_samples_split': [2, 5, 10],\n",
    "            'min_samples_leaf': [1, 2, 4],\n",
    "            'bootstrap': [True, False]\n",
    "        }\n",
    "    },\n",
    "    'xgb': {\n",
    "        'model': XGBClassifier(use_label_encoder=False, eval_metric='logloss'),\n",
    "        'params': {\n",
    "            'n_estimators': [50, 100, 200, 300],\n",
    "            'learning_rate': [0.01, 0.05, 0.1, 0.2],\n",
    "            'max_depth': [3, 5, 7, 10],\n",
    "            'subsample': [0.6, 0.8, 1.0],\n",
    "            'colsample_bytree': [0.6, 0.8, 1.0],\n",
    "            'gamma': [0, 0.1, 0.3, 0.5]\n",
    "        }\n",
    "    },\n",
    "    'lgbm': {\n",
    "        'model': LGBMClassifier(),\n",
    "        'params': {\n",
    "            'n_estimators': [100, 200, 300, 400],\n",
    "            'learning_rate': [0.01, 0.05, 0.1],\n",
    "            'max_depth': [3, 5, 7, 10, -1],\n",
    "            'num_leaves': [15, 31, 50, 70],\n",
    "            'subsample': [0.6, 0.8, 1.0],\n",
    "            'colsample_bytree': [0.6, 0.8, 1.0]\n",
    "        }\n",
    "    }\n",
    "}"
   ]
  }
 ],
 "metadata": {
  "kernelspec": {
   "display_name": "venv",
   "language": "python",
   "name": "python3"
  },
  "language_info": {
   "codemirror_mode": {
    "name": "ipython",
    "version": 3
   },
   "file_extension": ".py",
   "mimetype": "text/x-python",
   "name": "python",
   "nbconvert_exporter": "python",
   "pygments_lexer": "ipython3",
   "version": "3.13.3"
  }
 },
 "nbformat": 4,
 "nbformat_minor": 5
}
